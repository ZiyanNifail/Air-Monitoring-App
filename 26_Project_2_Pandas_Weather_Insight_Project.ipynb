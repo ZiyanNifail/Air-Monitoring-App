{
  "nbformat": 4,
  "nbformat_minor": 0,
  "metadata": {
    "colab": {
      "provenance": [],
      "authorship_tag": "ABX9TyN/e8VDAjWdwiNmoJQFGd3e",
      "include_colab_link": true
    },
    "kernelspec": {
      "name": "python3",
      "display_name": "Python 3"
    },
    "language_info": {
      "name": "python"
    }
  },
  "cells": [
    {
      "cell_type": "markdown",
      "metadata": {
        "id": "view-in-github",
        "colab_type": "text"
      },
      "source": [
        "<a href=\"https://colab.research.google.com/github/ZiyanNifail/Air-Monitoring-App/blob/main/26_Project_2_Pandas_Weather_Insight_Project.ipynb\" target=\"_parent\"><img src=\"https://colab.research.google.com/assets/colab-badge.svg\" alt=\"Open In Colab\"/></a>"
      ]
    },
    {
      "cell_type": "markdown",
      "source": [
        "---\n",
        "\n",
        "# Project: Weather Insight through a Weather API\n",
        "\n",
        "\n",
        "### Step 1: Register an account & Create an app\n",
        "\n",
        " https://developer.accuweather.com/"
      ],
      "metadata": {
        "id": "l_mz96Jkv0nh"
      }
    },
    {
      "cell_type": "code",
      "source": [
        "API_KEY = \"IBsKjKvsAZg8JSE8qRwGAT6jlg2EmMTC\"\n",
        "\n",
        "# Location API (City Search) = \"http://dataservice.accuweather.com/locations/v1/cities/search\"\n",
        "# Forecast API (Forecast Search) = \"http://dataservice.accuweather.com/forecasts/v1/daily/1day/{locationKey}\n",
        "# Current Conditions = http://dataservice.accuweather.com/currentconditions/v1/{locationKey}\n",
        "\n"
      ],
      "metadata": {
        "id": "N5cknlFL0ODo"
      },
      "execution_count": 1,
      "outputs": []
    },
    {
      "cell_type": "markdown",
      "source": [
        "<img src=\"https://i.ibb.co/5kKZJQ4/Screenshot-2024-07-22-at-1-37-15-PM.png\" alt=\"Screenshot-2024-07-22-at-1-37-15-PM\" border=\"0\">\n",
        "\n",
        "\n",
        "Example API Endpoint for `City Search API`\n",
        "\n",
        "<img src=\"https://i.ibb.co/BtG13Gn/Screenshot-2024-07-22-at-5-39-03-PM.png\" alt=\"Screenshot-2024-07-22-at-5-39-03-PM\" border=\"0\">\n",
        "\n",
        "You can ask students to try out try request directly on the website to get back a data response.\n",
        "\n",
        "<img src=\"https://i.ibb.co/KjPQNLW/Document1-1.png\" alt=\"Document1-1\" border=\"0\">"
      ],
      "metadata": {
        "id": "nea6sump9oXW"
      }
    },
    {
      "cell_type": "code",
      "source": [
        "import requests\n",
        "\n",
        "# to make request to the endpoint to retrieve the data, we need to use the method call .get\n",
        "# .get() requires 2 input\n",
        "# i) what is the location of your data?\n",
        "# ii) what are the parameter?\n",
        "\n",
        "# Location API Data request"
      ],
      "metadata": {
        "id": "gqfJLFQL5wHe"
      },
      "execution_count": 2,
      "outputs": []
    },
    {
      "cell_type": "code",
      "source": [
        "def city_search(api_key,q):\n",
        "  endpoint = \"http://dataservice.accuweather.com/locations/v1/cities/search\"\n",
        "  parameter = {\n",
        "      \"apikey\": api_key,\n",
        "      \"q\": q\n",
        "  }\n",
        "\n",
        "  response = requests.get(endpoint,params=parameter)\n",
        "\n",
        "  if response.status_code == 200:\n",
        "    return response.json() # converts the response into json format\n",
        "  else:\n",
        "    print(f\"Error: {response.status_code}\")\n",
        "    return None\n"
      ],
      "metadata": {
        "id": "GpM0WCb9rIjn"
      },
      "execution_count": 3,
      "outputs": []
    },
    {
      "cell_type": "code",
      "source": [
        "city_result_1 = city_search(API_KEY,\"Kuala Lumpur\")\n",
        "print(city_result_1)"
      ],
      "metadata": {
        "colab": {
          "base_uri": "https://localhost:8080/"
        },
        "id": "3JVYTBGBtG_9",
        "outputId": "bac31e60-bf6a-42ae-9cd2-329b6afc68b3"
      },
      "execution_count": 4,
      "outputs": [
        {
          "output_type": "stream",
          "name": "stdout",
          "text": [
            "[{'Version': 1, 'Key': '233776', 'Type': 'City', 'Rank': 20, 'LocalizedName': 'Kuala Lumpur', 'EnglishName': 'Kuala Lumpur', 'PrimaryPostalCode': '', 'Region': {'ID': 'ASI', 'LocalizedName': 'Asia', 'EnglishName': 'Asia'}, 'Country': {'ID': 'MY', 'LocalizedName': 'Malaysia', 'EnglishName': 'Malaysia'}, 'AdministrativeArea': {'ID': '14', 'LocalizedName': 'Kuala Lumpur', 'EnglishName': 'Kuala Lumpur', 'Level': 1, 'LocalizedType': 'State', 'EnglishType': 'State', 'CountryID': 'MY'}, 'TimeZone': {'Code': 'MYT', 'Name': 'Asia/Kuala_Lumpur', 'GmtOffset': 8.0, 'IsDaylightSaving': False, 'NextOffsetChange': None}, 'GeoPosition': {'Latitude': 3.158, 'Longitude': 101.712, 'Elevation': {'Metric': {'Value': 61.0, 'Unit': 'm', 'UnitType': 5}, 'Imperial': {'Value': 200.0, 'Unit': 'ft', 'UnitType': 0}}}, 'IsAlias': False, 'SupplementalAdminAreas': [], 'DataSets': ['AirQualityCurrentConditions', 'AirQualityForecasts', 'FutureRadar', 'MinuteCast']}, {'Version': 1, 'Key': '3483201', 'Type': 'City', 'Rank': 85, 'LocalizedName': 'Kuala Lumpur', 'EnglishName': 'Kuala Lumpur', 'PrimaryPostalCode': '', 'Region': {'ID': 'ASI', 'LocalizedName': 'Asia', 'EnglishName': 'Asia'}, 'Country': {'ID': 'ID', 'LocalizedName': 'Indonesia', 'EnglishName': 'Indonesia'}, 'AdministrativeArea': {'ID': 'GO', 'LocalizedName': 'Gorontalo', 'EnglishName': 'Gorontalo', 'Level': 1, 'LocalizedType': 'Province', 'EnglishType': 'Province', 'CountryID': 'ID'}, 'TimeZone': {'Code': 'CIT', 'Name': 'Asia/Makassar', 'GmtOffset': 8.0, 'IsDaylightSaving': False, 'NextOffsetChange': None}, 'GeoPosition': {'Latitude': 0.644, 'Longitude': 122.577, 'Elevation': {'Metric': {'Value': 158.0, 'Unit': 'm', 'UnitType': 5}, 'Imperial': {'Value': 518.0, 'Unit': 'ft', 'UnitType': 0}}}, 'IsAlias': False, 'SupplementalAdminAreas': [{'Level': 2, 'LocalizedName': 'Boalemo', 'EnglishName': 'Boalemo'}, {'Level': 3, 'LocalizedName': 'Paguyaman', 'EnglishName': 'Paguyaman'}], 'DataSets': ['AirQualityCurrentConditions', 'AirQualityForecasts', 'Alerts', 'FutureRadar', 'MinuteCast']}]\n"
          ]
        }
      ]
    },
    {
      "cell_type": "code",
      "source": [
        "for x in city_result_1:\n",
        "  print(x)"
      ],
      "metadata": {
        "colab": {
          "base_uri": "https://localhost:8080/"
        },
        "id": "sWVjo6Q0tZA_",
        "outputId": "7d309917-5e2e-4975-bbdd-8d87cad124fc"
      },
      "execution_count": 5,
      "outputs": [
        {
          "output_type": "stream",
          "name": "stdout",
          "text": [
            "{'Version': 1, 'Key': '233776', 'Type': 'City', 'Rank': 20, 'LocalizedName': 'Kuala Lumpur', 'EnglishName': 'Kuala Lumpur', 'PrimaryPostalCode': '', 'Region': {'ID': 'ASI', 'LocalizedName': 'Asia', 'EnglishName': 'Asia'}, 'Country': {'ID': 'MY', 'LocalizedName': 'Malaysia', 'EnglishName': 'Malaysia'}, 'AdministrativeArea': {'ID': '14', 'LocalizedName': 'Kuala Lumpur', 'EnglishName': 'Kuala Lumpur', 'Level': 1, 'LocalizedType': 'State', 'EnglishType': 'State', 'CountryID': 'MY'}, 'TimeZone': {'Code': 'MYT', 'Name': 'Asia/Kuala_Lumpur', 'GmtOffset': 8.0, 'IsDaylightSaving': False, 'NextOffsetChange': None}, 'GeoPosition': {'Latitude': 3.158, 'Longitude': 101.712, 'Elevation': {'Metric': {'Value': 61.0, 'Unit': 'm', 'UnitType': 5}, 'Imperial': {'Value': 200.0, 'Unit': 'ft', 'UnitType': 0}}}, 'IsAlias': False, 'SupplementalAdminAreas': [], 'DataSets': ['AirQualityCurrentConditions', 'AirQualityForecasts', 'FutureRadar', 'MinuteCast']}\n",
            "{'Version': 1, 'Key': '3483201', 'Type': 'City', 'Rank': 85, 'LocalizedName': 'Kuala Lumpur', 'EnglishName': 'Kuala Lumpur', 'PrimaryPostalCode': '', 'Region': {'ID': 'ASI', 'LocalizedName': 'Asia', 'EnglishName': 'Asia'}, 'Country': {'ID': 'ID', 'LocalizedName': 'Indonesia', 'EnglishName': 'Indonesia'}, 'AdministrativeArea': {'ID': 'GO', 'LocalizedName': 'Gorontalo', 'EnglishName': 'Gorontalo', 'Level': 1, 'LocalizedType': 'Province', 'EnglishType': 'Province', 'CountryID': 'ID'}, 'TimeZone': {'Code': 'CIT', 'Name': 'Asia/Makassar', 'GmtOffset': 8.0, 'IsDaylightSaving': False, 'NextOffsetChange': None}, 'GeoPosition': {'Latitude': 0.644, 'Longitude': 122.577, 'Elevation': {'Metric': {'Value': 158.0, 'Unit': 'm', 'UnitType': 5}, 'Imperial': {'Value': 518.0, 'Unit': 'ft', 'UnitType': 0}}}, 'IsAlias': False, 'SupplementalAdminAreas': [{'Level': 2, 'LocalizedName': 'Boalemo', 'EnglishName': 'Boalemo'}, {'Level': 3, 'LocalizedName': 'Paguyaman', 'EnglishName': 'Paguyaman'}], 'DataSets': ['AirQualityCurrentConditions', 'AirQualityForecasts', 'Alerts', 'FutureRadar', 'MinuteCast']}\n"
          ]
        }
      ]
    },
    {
      "cell_type": "code",
      "source": [
        "kl_result = city_result_1[0]\n",
        "print(kl_result)"
      ],
      "metadata": {
        "colab": {
          "base_uri": "https://localhost:8080/"
        },
        "id": "X70AXy-9tmRF",
        "outputId": "4429767c-dbcd-47d5-87e3-26bf0d60fb6a"
      },
      "execution_count": 6,
      "outputs": [
        {
          "output_type": "stream",
          "name": "stdout",
          "text": [
            "{'Version': 1, 'Key': '233776', 'Type': 'City', 'Rank': 20, 'LocalizedName': 'Kuala Lumpur', 'EnglishName': 'Kuala Lumpur', 'PrimaryPostalCode': '', 'Region': {'ID': 'ASI', 'LocalizedName': 'Asia', 'EnglishName': 'Asia'}, 'Country': {'ID': 'MY', 'LocalizedName': 'Malaysia', 'EnglishName': 'Malaysia'}, 'AdministrativeArea': {'ID': '14', 'LocalizedName': 'Kuala Lumpur', 'EnglishName': 'Kuala Lumpur', 'Level': 1, 'LocalizedType': 'State', 'EnglishType': 'State', 'CountryID': 'MY'}, 'TimeZone': {'Code': 'MYT', 'Name': 'Asia/Kuala_Lumpur', 'GmtOffset': 8.0, 'IsDaylightSaving': False, 'NextOffsetChange': None}, 'GeoPosition': {'Latitude': 3.158, 'Longitude': 101.712, 'Elevation': {'Metric': {'Value': 61.0, 'Unit': 'm', 'UnitType': 5}, 'Imperial': {'Value': 200.0, 'Unit': 'ft', 'UnitType': 0}}}, 'IsAlias': False, 'SupplementalAdminAreas': [], 'DataSets': ['AirQualityCurrentConditions', 'AirQualityForecasts', 'FutureRadar', 'MinuteCast']}\n"
          ]
        }
      ]
    },
    {
      "cell_type": "code",
      "source": [
        "kl_key = kl_result[\"Key\"]\n",
        "print(kl_key)"
      ],
      "metadata": {
        "colab": {
          "base_uri": "https://localhost:8080/"
        },
        "id": "xQYLMHFkt41h",
        "outputId": "a3863b1a-2116-4353-d1b2-56ea613696f2"
      },
      "execution_count": 7,
      "outputs": [
        {
          "output_type": "stream",
          "name": "stdout",
          "text": [
            "233776\n"
          ]
        }
      ]
    },
    {
      "cell_type": "markdown",
      "source": [
        "---\n",
        "### 2. Current Conditions API"
      ],
      "metadata": {
        "id": "Xn6kFopkod3t"
      }
    },
    {
      "cell_type": "code",
      "source": [
        "def get_current_conditions(api_key,location_key):\n",
        "  endpoint = f\"http://dataservice.accuweather.com/currentconditions/v1/{location_key}\"\n",
        "  parameter = {\n",
        "      \"apikey\": api_key\n",
        "  }\n",
        "\n",
        "  response = requests.get(endpoint,params = parameter)\n",
        "\n",
        "  if response.status_code == 200:\n",
        "    return response.json()\n",
        "  else:\n",
        "    print(f\"Error: {response.status_code}\")\n",
        "    return None"
      ],
      "metadata": {
        "id": "JrXlRCu9x3sy"
      },
      "execution_count": 8,
      "outputs": []
    },
    {
      "cell_type": "code",
      "source": [
        "kl_current_conditions = get_current_conditions(API_KEY,kl_key)\n",
        "print(kl_current_conditions)"
      ],
      "metadata": {
        "colab": {
          "base_uri": "https://localhost:8080/"
        },
        "id": "i8ryTbLBy3In",
        "outputId": "a7b4c002-40eb-4310-d0b0-051c030b9aea"
      },
      "execution_count": 9,
      "outputs": [
        {
          "output_type": "stream",
          "name": "stdout",
          "text": [
            "[{'LocalObservationDateTime': '2025-05-19T14:30:00+08:00', 'EpochTime': 1747636200, 'WeatherText': 'Cloudy', 'WeatherIcon': 7, 'HasPrecipitation': False, 'PrecipitationType': None, 'IsDayTime': True, 'Temperature': {'Metric': {'Value': 32.2, 'Unit': 'C', 'UnitType': 17}, 'Imperial': {'Value': 90.0, 'Unit': 'F', 'UnitType': 18}}, 'MobileLink': 'http://www.accuweather.com/en/my/kuala-lumpur/233776/current-weather/233776?lang=en-us', 'Link': 'http://www.accuweather.com/en/my/kuala-lumpur/233776/current-weather/233776?lang=en-us'}]\n"
          ]
        }
      ]
    },
    {
      "cell_type": "code",
      "source": [
        "for key, value in kl_current_conditions[0].items():\n",
        "  print(f\"Key:{key}, Value: {value}\")"
      ],
      "metadata": {
        "colab": {
          "base_uri": "https://localhost:8080/"
        },
        "id": "Z2X63GRIzCcf",
        "outputId": "b79a5a0d-6faa-4623-e5a2-9d92eecb4177"
      },
      "execution_count": 10,
      "outputs": [
        {
          "output_type": "stream",
          "name": "stdout",
          "text": [
            "Key:LocalObservationDateTime, Value: 2025-05-19T14:30:00+08:00\n",
            "Key:EpochTime, Value: 1747636200\n",
            "Key:WeatherText, Value: Cloudy\n",
            "Key:WeatherIcon, Value: 7\n",
            "Key:HasPrecipitation, Value: False\n",
            "Key:PrecipitationType, Value: None\n",
            "Key:IsDayTime, Value: True\n",
            "Key:Temperature, Value: {'Metric': {'Value': 32.2, 'Unit': 'C', 'UnitType': 17}, 'Imperial': {'Value': 90.0, 'Unit': 'F', 'UnitType': 18}}\n",
            "Key:MobileLink, Value: http://www.accuweather.com/en/my/kuala-lumpur/233776/current-weather/233776?lang=en-us\n",
            "Key:Link, Value: http://www.accuweather.com/en/my/kuala-lumpur/233776/current-weather/233776?lang=en-us\n"
          ]
        }
      ]
    },
    {
      "cell_type": "markdown",
      "source": [
        "---\n",
        "### 3. Daily Forecast API"
      ],
      "metadata": {
        "id": "JwuuWCAJq10x"
      }
    },
    {
      "cell_type": "code",
      "source": [
        "def get_forecast_conditions(api_key,location_key):\n",
        "  endpoint = f\"http://dataservice.accuweather.com/forecasts/v1/daily/1day/{location_key}\"\n",
        "  parameter = {\n",
        "      \"apikey\": api_key\n",
        "  }\n",
        "\n",
        "  response = requests.get(endpoint,params = parameter)\n",
        "\n",
        "  if response.status_code == 200:\n",
        "    return response.json()\n",
        "  else:\n",
        "    print(f\"Error: {response.status_code}\")\n",
        "    return None"
      ],
      "metadata": {
        "id": "12GV9fpE1P_M"
      },
      "execution_count": 11,
      "outputs": []
    },
    {
      "cell_type": "code",
      "source": [
        "kl_forecast = get_forecast_conditions(API_KEY,kl_key)\n",
        "print(kl_forecast)"
      ],
      "metadata": {
        "colab": {
          "base_uri": "https://localhost:8080/"
        },
        "id": "bzdPfhna1cbQ",
        "outputId": "dbaea0a7-13e5-4253-d8f8-ab6b77215a68"
      },
      "execution_count": 12,
      "outputs": [
        {
          "output_type": "stream",
          "name": "stdout",
          "text": [
            "{'Headline': {'EffectiveDate': '2025-05-19T13:00:00+08:00', 'EffectiveEpochDate': 1747630800, 'Severity': 5, 'Text': 'Thunderstorms in the area Monday afternoon through Monday evening', 'Category': 'thunderstorm', 'EndDate': '2025-05-20T01:00:00+08:00', 'EndEpochDate': 1747674000, 'MobileLink': 'http://www.accuweather.com/en/my/kuala-lumpur/233776/daily-weather-forecast/233776?lang=en-us', 'Link': 'http://www.accuweather.com/en/my/kuala-lumpur/233776/daily-weather-forecast/233776?lang=en-us'}, 'DailyForecasts': [{'Date': '2025-05-19T07:00:00+08:00', 'EpochDate': 1747609200, 'Temperature': {'Minimum': {'Value': 76.0, 'Unit': 'F', 'UnitType': 18}, 'Maximum': {'Value': 90.0, 'Unit': 'F', 'UnitType': 18}}, 'Day': {'Icon': 15, 'IconPhrase': 'Thunderstorms', 'HasPrecipitation': True, 'PrecipitationType': 'Rain', 'PrecipitationIntensity': 'Moderate'}, 'Night': {'Icon': 35, 'IconPhrase': 'Partly cloudy', 'HasPrecipitation': False}, 'Sources': ['AccuWeather'], 'MobileLink': 'http://www.accuweather.com/en/my/kuala-lumpur/233776/daily-weather-forecast/233776?day=1&lang=en-us', 'Link': 'http://www.accuweather.com/en/my/kuala-lumpur/233776/daily-weather-forecast/233776?day=1&lang=en-us'}]}\n"
          ]
        }
      ]
    },
    {
      "cell_type": "code",
      "source": [
        "for key, value in kl_forecast.items():\n",
        "  print(f\"Key:{key}, Value: {value}\")"
      ],
      "metadata": {
        "colab": {
          "base_uri": "https://localhost:8080/"
        },
        "id": "DUDgSxwq1sF1",
        "outputId": "f0d17f1c-4049-44c0-b2ad-1bb6379382e6"
      },
      "execution_count": 13,
      "outputs": [
        {
          "output_type": "stream",
          "name": "stdout",
          "text": [
            "Key:Headline, Value: {'EffectiveDate': '2025-05-19T13:00:00+08:00', 'EffectiveEpochDate': 1747630800, 'Severity': 5, 'Text': 'Thunderstorms in the area Monday afternoon through Monday evening', 'Category': 'thunderstorm', 'EndDate': '2025-05-20T01:00:00+08:00', 'EndEpochDate': 1747674000, 'MobileLink': 'http://www.accuweather.com/en/my/kuala-lumpur/233776/daily-weather-forecast/233776?lang=en-us', 'Link': 'http://www.accuweather.com/en/my/kuala-lumpur/233776/daily-weather-forecast/233776?lang=en-us'}\n",
            "Key:DailyForecasts, Value: [{'Date': '2025-05-19T07:00:00+08:00', 'EpochDate': 1747609200, 'Temperature': {'Minimum': {'Value': 76.0, 'Unit': 'F', 'UnitType': 18}, 'Maximum': {'Value': 90.0, 'Unit': 'F', 'UnitType': 18}}, 'Day': {'Icon': 15, 'IconPhrase': 'Thunderstorms', 'HasPrecipitation': True, 'PrecipitationType': 'Rain', 'PrecipitationIntensity': 'Moderate'}, 'Night': {'Icon': 35, 'IconPhrase': 'Partly cloudy', 'HasPrecipitation': False}, 'Sources': ['AccuWeather'], 'MobileLink': 'http://www.accuweather.com/en/my/kuala-lumpur/233776/daily-weather-forecast/233776?day=1&lang=en-us', 'Link': 'http://www.accuweather.com/en/my/kuala-lumpur/233776/daily-weather-forecast/233776?day=1&lang=en-us'}]\n"
          ]
        }
      ]
    },
    {
      "cell_type": "markdown",
      "source": [
        "---\n",
        "### 4. Create a function `fetch_weather_data` to fetch all 3 API data"
      ],
      "metadata": {
        "id": "Q1kKLgYjtRSE"
      }
    },
    {
      "cell_type": "code",
      "source": [
        "# now we have 3 functions\n",
        "# i) city_search () we need this function to extract the KL key\n",
        "# ii) get_current_conditions() >> by using the extracted kl key, we can get data regarding current conditions\n",
        "# iii) get_forecast_condition() >> by using the extracted kl key, we can get data regarding forecast conditions"
      ],
      "metadata": {
        "id": "DZwz3Xuv2kij"
      },
      "execution_count": 14,
      "outputs": []
    },
    {
      "cell_type": "code",
      "source": [
        "from datetime import datetime"
      ],
      "metadata": {
        "id": "QKpWZipK3ZZK"
      },
      "execution_count": 15,
      "outputs": []
    },
    {
      "cell_type": "code",
      "source": [
        "print(kl_result)"
      ],
      "metadata": {
        "colab": {
          "base_uri": "https://localhost:8080/"
        },
        "id": "xAqP7cAP4IC8",
        "outputId": "8c001602-ffad-424d-bf75-0d2932aae957"
      },
      "execution_count": 16,
      "outputs": [
        {
          "output_type": "stream",
          "name": "stdout",
          "text": [
            "{'Version': 1, 'Key': '233776', 'Type': 'City', 'Rank': 20, 'LocalizedName': 'Kuala Lumpur', 'EnglishName': 'Kuala Lumpur', 'PrimaryPostalCode': '', 'Region': {'ID': 'ASI', 'LocalizedName': 'Asia', 'EnglishName': 'Asia'}, 'Country': {'ID': 'MY', 'LocalizedName': 'Malaysia', 'EnglishName': 'Malaysia'}, 'AdministrativeArea': {'ID': '14', 'LocalizedName': 'Kuala Lumpur', 'EnglishName': 'Kuala Lumpur', 'Level': 1, 'LocalizedType': 'State', 'EnglishType': 'State', 'CountryID': 'MY'}, 'TimeZone': {'Code': 'MYT', 'Name': 'Asia/Kuala_Lumpur', 'GmtOffset': 8.0, 'IsDaylightSaving': False, 'NextOffsetChange': None}, 'GeoPosition': {'Latitude': 3.158, 'Longitude': 101.712, 'Elevation': {'Metric': {'Value': 61.0, 'Unit': 'm', 'UnitType': 5}, 'Imperial': {'Value': 200.0, 'Unit': 'ft', 'UnitType': 0}}}, 'IsAlias': False, 'SupplementalAdminAreas': [], 'DataSets': ['AirQualityCurrentConditions', 'AirQualityForecasts', 'FutureRadar', 'MinuteCast']}\n"
          ]
        }
      ]
    },
    {
      "cell_type": "code",
      "source": [
        "kl_current_conditions"
      ],
      "metadata": {
        "colab": {
          "base_uri": "https://localhost:8080/"
        },
        "id": "ephLRg-q5FXF",
        "outputId": "351869b4-1fe9-4ad7-922f-ed21b36629ba"
      },
      "execution_count": 17,
      "outputs": [
        {
          "output_type": "execute_result",
          "data": {
            "text/plain": [
              "[{'LocalObservationDateTime': '2025-05-19T14:30:00+08:00',\n",
              "  'EpochTime': 1747636200,\n",
              "  'WeatherText': 'Cloudy',\n",
              "  'WeatherIcon': 7,\n",
              "  'HasPrecipitation': False,\n",
              "  'PrecipitationType': None,\n",
              "  'IsDayTime': True,\n",
              "  'Temperature': {'Metric': {'Value': 32.2, 'Unit': 'C', 'UnitType': 17},\n",
              "   'Imperial': {'Value': 90.0, 'Unit': 'F', 'UnitType': 18}},\n",
              "  'MobileLink': 'http://www.accuweather.com/en/my/kuala-lumpur/233776/current-weather/233776?lang=en-us',\n",
              "  'Link': 'http://www.accuweather.com/en/my/kuala-lumpur/233776/current-weather/233776?lang=en-us'}]"
            ]
          },
          "metadata": {},
          "execution_count": 17
        }
      ]
    },
    {
      "cell_type": "code",
      "source": [
        "kl_forecast"
      ],
      "metadata": {
        "id": "tUMViT3J89AC",
        "outputId": "c290e1f1-fed0-4cbd-ee04-e074904944d5",
        "colab": {
          "base_uri": "https://localhost:8080/"
        }
      },
      "execution_count": 18,
      "outputs": [
        {
          "output_type": "execute_result",
          "data": {
            "text/plain": [
              "{'Headline': {'EffectiveDate': '2025-05-19T13:00:00+08:00',\n",
              "  'EffectiveEpochDate': 1747630800,\n",
              "  'Severity': 5,\n",
              "  'Text': 'Thunderstorms in the area Monday afternoon through Monday evening',\n",
              "  'Category': 'thunderstorm',\n",
              "  'EndDate': '2025-05-20T01:00:00+08:00',\n",
              "  'EndEpochDate': 1747674000,\n",
              "  'MobileLink': 'http://www.accuweather.com/en/my/kuala-lumpur/233776/daily-weather-forecast/233776?lang=en-us',\n",
              "  'Link': 'http://www.accuweather.com/en/my/kuala-lumpur/233776/daily-weather-forecast/233776?lang=en-us'},\n",
              " 'DailyForecasts': [{'Date': '2025-05-19T07:00:00+08:00',\n",
              "   'EpochDate': 1747609200,\n",
              "   'Temperature': {'Minimum': {'Value': 76.0, 'Unit': 'F', 'UnitType': 18},\n",
              "    'Maximum': {'Value': 90.0, 'Unit': 'F', 'UnitType': 18}},\n",
              "   'Day': {'Icon': 15,\n",
              "    'IconPhrase': 'Thunderstorms',\n",
              "    'HasPrecipitation': True,\n",
              "    'PrecipitationType': 'Rain',\n",
              "    'PrecipitationIntensity': 'Moderate'},\n",
              "   'Night': {'Icon': 35,\n",
              "    'IconPhrase': 'Partly cloudy',\n",
              "    'HasPrecipitation': False},\n",
              "   'Sources': ['AccuWeather'],\n",
              "   'MobileLink': 'http://www.accuweather.com/en/my/kuala-lumpur/233776/daily-weather-forecast/233776?day=1&lang=en-us',\n",
              "   'Link': 'http://www.accuweather.com/en/my/kuala-lumpur/233776/daily-weather-forecast/233776?day=1&lang=en-us'}]}"
            ]
          },
          "metadata": {},
          "execution_count": 18
        }
      ]
    },
    {
      "cell_type": "code",
      "source": [
        "def fahrenheit_to_celsius(fahrenheit):\n",
        "  return (fahrenheit-32) * 5.0/9.0"
      ],
      "metadata": {
        "id": "fTbwiC6Z29IF"
      },
      "execution_count": 19,
      "outputs": []
    },
    {
      "cell_type": "code",
      "source": [
        "def fetch_weather_data(api_key,city):\n",
        "\n",
        "  # i) using city_search()\n",
        "  city_info = city_search(api_key,city)\n",
        "  finalise_city_info = city_info[0]\n",
        "\n",
        "  # i.i) extract information regarding the city\n",
        "  city_key = finalise_city_info[\"Key\"]\n",
        "  city_name = finalise_city_info[\"LocalizedName\"]\n",
        "  country_name = finalise_city_info[\"Country\"][\"LocalizedName\"]\n",
        "\n",
        "  # ii) using get_current_conditions\n",
        "  current_condition = get_current_conditions(api_key,city_key)\n",
        "  finallised_current_conditions = current_condition[0]\n",
        "\n",
        "  # ii.i) extracting the information\n",
        "  observation_time = finallised_current_conditions[\"LocalObservationDateTime\"]\n",
        "  formatted_time = datetime.strptime(observation_time,\"%Y-%m-%dT%H:%M:%S%z\").strftime(\"%Y-%m-%d %H:%M:%S %z\")\n",
        "  temperature = finallised_current_conditions[\"Temperature\"][\"Metric\"][\"Value\"]\n",
        "  weathertext = finallised_current_conditions[\"WeatherText\"]\n",
        "  isdayTime = finallised_current_conditions[\"IsDayTime\"]\n",
        "\n",
        "  # iii.i) using get_forecast_conditions\n",
        "  daily_forecast = get_forecast_conditions(api_key,city_key)\n",
        "\n",
        "  # iii.ii) extracting information from daily_forecast\n",
        "  min_temp_f = daily_forecast[\"DailyForecasts\"][0]['Temperature']['Minimum']['Value']\n",
        "  min_temp_c = fahrenheit_to_celsius(min_temp_f)\n",
        "  max_temp_f = daily_forecast[\"DailyForecasts\"][0]['Temperature']['Maximum']['Value']\n",
        "  max_temp_c = fahrenheit_to_celsius(max_temp_f)\n",
        "  forecast_text = daily_forecast[\"DailyForecasts\"][0][\"Day\"][\"IconPhrase\"]\n",
        "\n",
        "  data = {\n",
        "      'City': city_name,\n",
        "      'Country': country_name,\n",
        "      'Current Temperature (C)': temperature,\n",
        "      'Observation Time': observation_time,\n",
        "      'Weather Text': weathertext,\n",
        "      'Day time': isdayTime,\n",
        "      'Forecast Min Temp (C)': round(min_temp_c,1),\n",
        "      'Forecast Max Temp (C)': round(max_temp_c,1),\n",
        "      'Forecast Text' : forecast_text,\n",
        "\n",
        "  }\n",
        "\n",
        "  return data\n",
        "\n",
        "\n",
        "\n",
        "\n"
      ],
      "metadata": {
        "id": "5CnCDiAM3cUi"
      },
      "execution_count": 20,
      "outputs": []
    },
    {
      "cell_type": "code",
      "source": [
        "kuala_lumpur = fetch_weather_data(API_KEY,\"Kuala Lumpur\")"
      ],
      "metadata": {
        "id": "mB7rNdTiw9VG"
      },
      "execution_count": 21,
      "outputs": []
    },
    {
      "cell_type": "code",
      "source": [
        "print(kuala_lumpur)"
      ],
      "metadata": {
        "colab": {
          "base_uri": "https://localhost:8080/"
        },
        "id": "Co4v4J5kxDxe",
        "outputId": "3405e944-bb34-4133-d582-8698c8476618"
      },
      "execution_count": 22,
      "outputs": [
        {
          "output_type": "stream",
          "name": "stdout",
          "text": [
            "{'City': 'Kuala Lumpur', 'Country': 'Malaysia', 'Current Temperature (C)': 32.2, 'Observation Time': '2025-05-19T14:30:00+08:00', 'Weather Text': 'Cloudy', 'Day time': True, 'Forecast Min Temp (C)': 24.4, 'Forecast Max Temp (C)': 32.2, 'Forecast Text': 'Thunderstorms'}\n"
          ]
        }
      ]
    },
    {
      "cell_type": "code",
      "source": [
        "for x in kuala_lumpur:\n",
        "  print(x, \":\", kuala_lumpur[x])"
      ],
      "metadata": {
        "colab": {
          "base_uri": "https://localhost:8080/"
        },
        "id": "7Kqjd5bXxdf5",
        "outputId": "5c8f994f-8bc4-4011-e116-a49a351634fe"
      },
      "execution_count": 23,
      "outputs": [
        {
          "output_type": "stream",
          "name": "stdout",
          "text": [
            "City : Kuala Lumpur\n",
            "Country : Malaysia\n",
            "Current Temperature (C) : 32.2\n",
            "Observation Time : 2025-05-19T14:30:00+08:00\n",
            "Weather Text : Cloudy\n",
            "Day time : True\n",
            "Forecast Min Temp (C) : 24.4\n",
            "Forecast Max Temp (C) : 32.2\n",
            "Forecast Text : Thunderstorms\n"
          ]
        }
      ]
    },
    {
      "cell_type": "markdown",
      "source": [
        "Main Program\n"
      ],
      "metadata": {
        "id": "T18vykmFxuMx"
      }
    },
    {
      "cell_type": "code",
      "source": [
        "import pandas as pdn\n",
        "weather_list = []\n",
        "play = True\n",
        "while play is True:\n",
        "  user_input = input(\"Enter your city name (type 'Exit' to finish): \").lower()\n",
        "  if user_input == 'exit':\n",
        "    break\n",
        "  else:\n",
        "    try:\n",
        "      weather_data = fetch_weather_data(API_KEY,user_input)\n",
        "      weather_list.append(weather_data)\n",
        "      still_want_play = input(\"You still want to get any city data? (use 'yes' or 'no')\": ).lower()\n",
        "      if still_want_play == 'yes':\n",
        "        play = True\n",
        "      else:\n",
        "        play = False\n",
        "    except IndexError:\n",
        "      print(\"No such city as\", user_input)\n",
        "    except TypeError:\n",
        "      print(\"Cannot enter empty data!\")\n",
        "\n",
        "print(\"-\", 150)\n",
        "df = pd.DataFrame(weather_list)\n",
        "print(\"\")\n",
        "print(\"Weather Data\")\n",
        "display(df)"
      ],
      "metadata": {
        "colab": {
          "base_uri": "https://localhost:8080/",
          "height": 242
        },
        "id": "p-TEV8jP2-Kh",
        "outputId": "db0f761d-e458-4f4b-e005-50aab6908007"
      },
      "execution_count": 32,
      "outputs": [
        {
          "output_type": "stream",
          "name": "stdout",
          "text": [
            "Enter your city name (type 'Exit' to finish):kuala lumpue\n",
            "No such city as kuala lumpue\n",
            "Enter your city name (type 'Exit' to finish):kuala lumpur\n",
            "You still want to get any city data? (use 'yes' or 'no')no\n",
            "- 150\n",
            "\n",
            "Weather Data\n"
          ]
        },
        {
          "output_type": "display_data",
          "data": {
            "text/plain": [
              "           City   Country  Current Temperature (C)           Observation Time  \\\n",
              "0  Kuala Lumpur  Malaysia                     32.2  2025-05-19T14:35:00+08:00   \n",
              "\n",
              "  Weather Text  Day time  Forecast Min Temp (C)  Forecast Max Temp (C)  \\\n",
              "0       Cloudy      True                   24.4                   32.2   \n",
              "\n",
              "   Forecast Text  \n",
              "0  Thunderstorms  "
            ],
            "text/html": [
              "\n",
              "  <div id=\"df-2753697d-75c0-4bb9-bb0d-b73c80d93013\" class=\"colab-df-container\">\n",
              "    <div>\n",
              "<style scoped>\n",
              "    .dataframe tbody tr th:only-of-type {\n",
              "        vertical-align: middle;\n",
              "    }\n",
              "\n",
              "    .dataframe tbody tr th {\n",
              "        vertical-align: top;\n",
              "    }\n",
              "\n",
              "    .dataframe thead th {\n",
              "        text-align: right;\n",
              "    }\n",
              "</style>\n",
              "<table border=\"1\" class=\"dataframe\">\n",
              "  <thead>\n",
              "    <tr style=\"text-align: right;\">\n",
              "      <th></th>\n",
              "      <th>City</th>\n",
              "      <th>Country</th>\n",
              "      <th>Current Temperature (C)</th>\n",
              "      <th>Observation Time</th>\n",
              "      <th>Weather Text</th>\n",
              "      <th>Day time</th>\n",
              "      <th>Forecast Min Temp (C)</th>\n",
              "      <th>Forecast Max Temp (C)</th>\n",
              "      <th>Forecast Text</th>\n",
              "    </tr>\n",
              "  </thead>\n",
              "  <tbody>\n",
              "    <tr>\n",
              "      <th>0</th>\n",
              "      <td>Kuala Lumpur</td>\n",
              "      <td>Malaysia</td>\n",
              "      <td>32.2</td>\n",
              "      <td>2025-05-19T14:35:00+08:00</td>\n",
              "      <td>Cloudy</td>\n",
              "      <td>True</td>\n",
              "      <td>24.4</td>\n",
              "      <td>32.2</td>\n",
              "      <td>Thunderstorms</td>\n",
              "    </tr>\n",
              "  </tbody>\n",
              "</table>\n",
              "</div>\n",
              "    <div class=\"colab-df-buttons\">\n",
              "\n",
              "  <div class=\"colab-df-container\">\n",
              "    <button class=\"colab-df-convert\" onclick=\"convertToInteractive('df-2753697d-75c0-4bb9-bb0d-b73c80d93013')\"\n",
              "            title=\"Convert this dataframe to an interactive table.\"\n",
              "            style=\"display:none;\">\n",
              "\n",
              "  <svg xmlns=\"http://www.w3.org/2000/svg\" height=\"24px\" viewBox=\"0 -960 960 960\">\n",
              "    <path d=\"M120-120v-720h720v720H120Zm60-500h600v-160H180v160Zm220 220h160v-160H400v160Zm0 220h160v-160H400v160ZM180-400h160v-160H180v160Zm440 0h160v-160H620v160ZM180-180h160v-160H180v160Zm440 0h160v-160H620v160Z\"/>\n",
              "  </svg>\n",
              "    </button>\n",
              "\n",
              "  <style>\n",
              "    .colab-df-container {\n",
              "      display:flex;\n",
              "      gap: 12px;\n",
              "    }\n",
              "\n",
              "    .colab-df-convert {\n",
              "      background-color: #E8F0FE;\n",
              "      border: none;\n",
              "      border-radius: 50%;\n",
              "      cursor: pointer;\n",
              "      display: none;\n",
              "      fill: #1967D2;\n",
              "      height: 32px;\n",
              "      padding: 0 0 0 0;\n",
              "      width: 32px;\n",
              "    }\n",
              "\n",
              "    .colab-df-convert:hover {\n",
              "      background-color: #E2EBFA;\n",
              "      box-shadow: 0px 1px 2px rgba(60, 64, 67, 0.3), 0px 1px 3px 1px rgba(60, 64, 67, 0.15);\n",
              "      fill: #174EA6;\n",
              "    }\n",
              "\n",
              "    .colab-df-buttons div {\n",
              "      margin-bottom: 4px;\n",
              "    }\n",
              "\n",
              "    [theme=dark] .colab-df-convert {\n",
              "      background-color: #3B4455;\n",
              "      fill: #D2E3FC;\n",
              "    }\n",
              "\n",
              "    [theme=dark] .colab-df-convert:hover {\n",
              "      background-color: #434B5C;\n",
              "      box-shadow: 0px 1px 3px 1px rgba(0, 0, 0, 0.15);\n",
              "      filter: drop-shadow(0px 1px 2px rgba(0, 0, 0, 0.3));\n",
              "      fill: #FFFFFF;\n",
              "    }\n",
              "  </style>\n",
              "\n",
              "    <script>\n",
              "      const buttonEl =\n",
              "        document.querySelector('#df-2753697d-75c0-4bb9-bb0d-b73c80d93013 button.colab-df-convert');\n",
              "      buttonEl.style.display =\n",
              "        google.colab.kernel.accessAllowed ? 'block' : 'none';\n",
              "\n",
              "      async function convertToInteractive(key) {\n",
              "        const element = document.querySelector('#df-2753697d-75c0-4bb9-bb0d-b73c80d93013');\n",
              "        const dataTable =\n",
              "          await google.colab.kernel.invokeFunction('convertToInteractive',\n",
              "                                                    [key], {});\n",
              "        if (!dataTable) return;\n",
              "\n",
              "        const docLinkHtml = 'Like what you see? Visit the ' +\n",
              "          '<a target=\"_blank\" href=https://colab.research.google.com/notebooks/data_table.ipynb>data table notebook</a>'\n",
              "          + ' to learn more about interactive tables.';\n",
              "        element.innerHTML = '';\n",
              "        dataTable['output_type'] = 'display_data';\n",
              "        await google.colab.output.renderOutput(dataTable, element);\n",
              "        const docLink = document.createElement('div');\n",
              "        docLink.innerHTML = docLinkHtml;\n",
              "        element.appendChild(docLink);\n",
              "      }\n",
              "    </script>\n",
              "  </div>\n",
              "\n",
              "\n",
              "  <div id=\"id_bd50fe80-7a36-4d3f-9d73-d17a263f8266\">\n",
              "    <style>\n",
              "      .colab-df-generate {\n",
              "        background-color: #E8F0FE;\n",
              "        border: none;\n",
              "        border-radius: 50%;\n",
              "        cursor: pointer;\n",
              "        display: none;\n",
              "        fill: #1967D2;\n",
              "        height: 32px;\n",
              "        padding: 0 0 0 0;\n",
              "        width: 32px;\n",
              "      }\n",
              "\n",
              "      .colab-df-generate:hover {\n",
              "        background-color: #E2EBFA;\n",
              "        box-shadow: 0px 1px 2px rgba(60, 64, 67, 0.3), 0px 1px 3px 1px rgba(60, 64, 67, 0.15);\n",
              "        fill: #174EA6;\n",
              "      }\n",
              "\n",
              "      [theme=dark] .colab-df-generate {\n",
              "        background-color: #3B4455;\n",
              "        fill: #D2E3FC;\n",
              "      }\n",
              "\n",
              "      [theme=dark] .colab-df-generate:hover {\n",
              "        background-color: #434B5C;\n",
              "        box-shadow: 0px 1px 3px 1px rgba(0, 0, 0, 0.15);\n",
              "        filter: drop-shadow(0px 1px 2px rgba(0, 0, 0, 0.3));\n",
              "        fill: #FFFFFF;\n",
              "      }\n",
              "    </style>\n",
              "    <button class=\"colab-df-generate\" onclick=\"generateWithVariable('df')\"\n",
              "            title=\"Generate code using this dataframe.\"\n",
              "            style=\"display:none;\">\n",
              "\n",
              "  <svg xmlns=\"http://www.w3.org/2000/svg\" height=\"24px\"viewBox=\"0 0 24 24\"\n",
              "       width=\"24px\">\n",
              "    <path d=\"M7,19H8.4L18.45,9,17,7.55,7,17.6ZM5,21V16.75L18.45,3.32a2,2,0,0,1,2.83,0l1.4,1.43a1.91,1.91,0,0,1,.58,1.4,1.91,1.91,0,0,1-.58,1.4L9.25,21ZM18.45,9,17,7.55Zm-12,3A5.31,5.31,0,0,0,4.9,8.1,5.31,5.31,0,0,0,1,6.5,5.31,5.31,0,0,0,4.9,4.9,5.31,5.31,0,0,0,6.5,1,5.31,5.31,0,0,0,8.1,4.9,5.31,5.31,0,0,0,12,6.5,5.46,5.46,0,0,0,6.5,12Z\"/>\n",
              "  </svg>\n",
              "    </button>\n",
              "    <script>\n",
              "      (() => {\n",
              "      const buttonEl =\n",
              "        document.querySelector('#id_bd50fe80-7a36-4d3f-9d73-d17a263f8266 button.colab-df-generate');\n",
              "      buttonEl.style.display =\n",
              "        google.colab.kernel.accessAllowed ? 'block' : 'none';\n",
              "\n",
              "      buttonEl.onclick = () => {\n",
              "        google.colab.notebook.generateWithVariable('df');\n",
              "      }\n",
              "      })();\n",
              "    </script>\n",
              "  </div>\n",
              "\n",
              "    </div>\n",
              "  </div>\n"
            ],
            "application/vnd.google.colaboratory.intrinsic+json": {
              "type": "dataframe",
              "variable_name": "df",
              "summary": "{\n  \"name\": \"df\",\n  \"rows\": 1,\n  \"fields\": [\n    {\n      \"column\": \"City\",\n      \"properties\": {\n        \"dtype\": \"string\",\n        \"num_unique_values\": 1,\n        \"samples\": [\n          \"Kuala Lumpur\"\n        ],\n        \"semantic_type\": \"\",\n        \"description\": \"\"\n      }\n    },\n    {\n      \"column\": \"Country\",\n      \"properties\": {\n        \"dtype\": \"string\",\n        \"num_unique_values\": 1,\n        \"samples\": [\n          \"Malaysia\"\n        ],\n        \"semantic_type\": \"\",\n        \"description\": \"\"\n      }\n    },\n    {\n      \"column\": \"Current Temperature (C)\",\n      \"properties\": {\n        \"dtype\": \"number\",\n        \"std\": null,\n        \"min\": 32.2,\n        \"max\": 32.2,\n        \"num_unique_values\": 1,\n        \"samples\": [\n          32.2\n        ],\n        \"semantic_type\": \"\",\n        \"description\": \"\"\n      }\n    },\n    {\n      \"column\": \"Observation Time\",\n      \"properties\": {\n        \"dtype\": \"object\",\n        \"num_unique_values\": 1,\n        \"samples\": [\n          \"2025-05-19T14:35:00+08:00\"\n        ],\n        \"semantic_type\": \"\",\n        \"description\": \"\"\n      }\n    },\n    {\n      \"column\": \"Weather Text\",\n      \"properties\": {\n        \"dtype\": \"string\",\n        \"num_unique_values\": 1,\n        \"samples\": [\n          \"Cloudy\"\n        ],\n        \"semantic_type\": \"\",\n        \"description\": \"\"\n      }\n    },\n    {\n      \"column\": \"Day time\",\n      \"properties\": {\n        \"dtype\": \"boolean\",\n        \"num_unique_values\": 1,\n        \"samples\": [\n          true\n        ],\n        \"semantic_type\": \"\",\n        \"description\": \"\"\n      }\n    },\n    {\n      \"column\": \"Forecast Min Temp (C)\",\n      \"properties\": {\n        \"dtype\": \"number\",\n        \"std\": null,\n        \"min\": 24.4,\n        \"max\": 24.4,\n        \"num_unique_values\": 1,\n        \"samples\": [\n          24.4\n        ],\n        \"semantic_type\": \"\",\n        \"description\": \"\"\n      }\n    },\n    {\n      \"column\": \"Forecast Max Temp (C)\",\n      \"properties\": {\n        \"dtype\": \"number\",\n        \"std\": null,\n        \"min\": 32.2,\n        \"max\": 32.2,\n        \"num_unique_values\": 1,\n        \"samples\": [\n          32.2\n        ],\n        \"semantic_type\": \"\",\n        \"description\": \"\"\n      }\n    },\n    {\n      \"column\": \"Forecast Text\",\n      \"properties\": {\n        \"dtype\": \"string\",\n        \"num_unique_values\": 1,\n        \"samples\": [\n          \"Thunderstorms\"\n        ],\n        \"semantic_type\": \"\",\n        \"description\": \"\"\n      }\n    }\n  ]\n}"
            }
          },
          "metadata": {}
        }
      ]
    },
    {
      "cell_type": "code",
      "source": [
        "import unittest\n",
        "from unittest.mock import patch\n",
        "import requests\n",
        "\n",
        "# --- Functions to test ---\n",
        "def search_city(api_key, city_name):\n",
        "    url = f\"http://dataservice.accuweather.com/locations/v1/cities/search?apikey={api_key}&q={city_name}\"\n",
        "    response = requests.get(url)\n",
        "    if response.status_code == 200:\n",
        "        return response.json()[0] if response.json() else {}\n",
        "    else:\n",
        "        return {\"error\": response.status_code}\n",
        "\n",
        "def get_forecast(api_key, location_key):\n",
        "    url = f\"http://dataservice.accuweather.com/forecasts/v1/daily/1day/{location_key}?apikey={api_key}&metric=true\"\n",
        "    response = requests.get(url)\n",
        "    if response.status_code == 200:\n",
        "        return response.json()\n",
        "    else:\n",
        "        return {\"error\": response.status_code}\n",
        "\n",
        "def get_current_conditions(api_key, location_key):\n",
        "    url = f\"http://dataservice.accuweather.com/currentconditions/v1/{location_key}?apikey={api_key}\"\n",
        "    response = requests.get(url)\n",
        "    if response.status_code == 200:\n",
        "        return response.json()\n",
        "    else:\n",
        "        return {\"error\": response.status_code}\n",
        "\n",
        "# --- Unit Tests ---\n",
        "class TestWeatherInsight(unittest.TestCase):\n",
        "\n",
        "    @patch('requests.get')\n",
        "    def test_search_city_success(self, mock_get):\n",
        "        \"\"\"Test search_city with valid response\"\"\"\n",
        "        mock_get.return_value.status_code = 200\n",
        "        mock_get.return_value.json.return_value = [{\"Key\": \"123\", \"LocalizedName\": \"Kuala Lumpur\"}]\n",
        "        result = search_city(\"dummy_key\", \"Kuala Lumpur\")\n",
        "        self.assertEqual(result[\"LocalizedName\"], \"Kuala Lumpur\")\n",
        "\n",
        "    @patch('requests.get')\n",
        "    def test_search_city_empty(self, mock_get):\n",
        "        \"\"\"Test search_city returns empty dict when no city found\"\"\"\n",
        "        mock_get.return_value.status_code = 200\n",
        "        mock_get.return_value.json.return_value = []\n",
        "        result = search_city(\"dummy_key\", \"UnknownCity\")\n",
        "        self.assertEqual(result, {})\n",
        "\n",
        "    @patch('requests.get')\n",
        "    def test_search_city_error(self, mock_get):\n",
        "        \"\"\"Test search_city handles error response\"\"\"\n",
        "        mock_get.return_value.status_code = 404\n",
        "        result = search_city(\"dummy_key\", \"ErrorCity\")\n",
        "        self.assertIn(\"error\", result)\n",
        "\n",
        "    @patch('requests.get')\n",
        "    def test_get_forecast_success(self, mock_get):\n",
        "        \"\"\"Test get_forecast with valid data\"\"\"\n",
        "        mock_get.return_value.status_code = 200\n",
        "        mock_get.return_value.json.return_value = {\"DailyForecasts\": [{\"Temperature\": {\"Minimum\": {\"Value\": 23.0}}}]}\n",
        "        result = get_forecast(\"dummy_key\", \"123\")\n",
        "        self.assertIn(\"DailyForecasts\", result)\n",
        "\n",
        "    @patch('requests.get')\n",
        "    def test_get_forecast_error(self, mock_get):\n",
        "        \"\"\"Test get_forecast handles API failure\"\"\"\n",
        "        mock_get.return_value.status_code = 500\n",
        "        result = get_forecast(\"dummy_key\", \"123\")\n",
        "        self.assertIn(\"error\", result)\n",
        "\n",
        "    @patch('requests.get')\n",
        "    def test_get_current_conditions_success(self, mock_get):\n",
        "        \"\"\"Test get_current_conditions with valid response\"\"\"\n",
        "        mock_get.return_value.status_code = 200\n",
        "        mock_get.return_value.json.return_value = [{\"Temperature\": {\"Metric\": {\"Value\": 31.5}}, \"WeatherText\": \"Sunny\"}]\n",
        "        result = get_current_conditions(\"dummy_key\", \"123\")\n",
        "        self.assertIsInstance(result, list)\n",
        "\n",
        "    @patch('requests.get')\n",
        "    def test_get_current_conditions_error(self, mock_get):\n",
        "        \"\"\"Test get_current_conditions handles error\"\"\"\n",
        "        mock_get.return_value.status_code = 403\n",
        "        result = get_current_conditions(\"dummy_key\", \"123\")\n",
        "        self.assertIn(\"error\", result)\n",
        "\n",
        "    @patch('requests.get')\n",
        "    def test_get_current_conditions_empty(self, mock_get):\n",
        "        \"\"\"Test get_current_conditions returns empty list if response empty\"\"\"\n",
        "        mock_get.return_value.status_code = 200\n",
        "        mock_get.return_value.json.return_value = []\n",
        "        result = get_current_conditions(\"dummy_key\", \"123\")\n",
        "        self.assertEqual(result, [])\n",
        "\n",
        "    @patch('requests.get')\n",
        "    def test_forecast_temperature_value(self, mock_get):\n",
        "        \"\"\"Test that temperature value is float in forecast\"\"\"\n",
        "        mock_get.return_value.status_code = 200\n",
        "        mock_get.return_value.json.return_value = {\"DailyForecasts\": [{\"Temperature\": {\"Minimum\": {\"Value\": 23.5}}}]}\n",
        "        result = get_forecast(\"dummy_key\", \"123\")\n",
        "        temp = result[\"DailyForecasts\"][0][\"Temperature\"][\"Minimum\"][\"Value\"]\n",
        "        self.assertIsInstance(temp, float)\n",
        "\n",
        "    @patch('requests.get')\n",
        "    def test_search_city_key_present(self, mock_get):\n",
        "        \"\"\"Test that 'Key' is present in city search response\"\"\"\n",
        "        mock_get.return_value.status_code = 200\n",
        "        mock_get.return_value.json.return_value = [{\"Key\": \"321\", \"LocalizedName\": \"Penang\"}]\n",
        "        result = search_city(\"dummy_key\", \"Penang\")\n",
        "        self.assertIn(\"Key\", result)\n",
        "\n",
        "\n",
        "unittest.main(argv=[''], verbosity=2, exit=False)\n"
      ],
      "metadata": {
        "colab": {
          "base_uri": "https://localhost:8080/"
        },
        "id": "YbN7mvhoRrAM",
        "outputId": "16c078a5-141e-4f65-90ac-5d0520d6fb9f"
      },
      "execution_count": 25,
      "outputs": [
        {
          "output_type": "stream",
          "name": "stderr",
          "text": [
            "test_forecast_temperature_value (__main__.TestWeatherInsight.test_forecast_temperature_value)\n",
            "Test that temperature value is float in forecast ... ok\n",
            "test_get_current_conditions_empty (__main__.TestWeatherInsight.test_get_current_conditions_empty)\n",
            "Test get_current_conditions returns empty list if response empty ... ok\n",
            "test_get_current_conditions_error (__main__.TestWeatherInsight.test_get_current_conditions_error)\n",
            "Test get_current_conditions handles error ... ok\n",
            "test_get_current_conditions_success (__main__.TestWeatherInsight.test_get_current_conditions_success)\n",
            "Test get_current_conditions with valid response ... ok\n",
            "test_get_forecast_error (__main__.TestWeatherInsight.test_get_forecast_error)\n",
            "Test get_forecast handles API failure ... ok\n",
            "test_get_forecast_success (__main__.TestWeatherInsight.test_get_forecast_success)\n",
            "Test get_forecast with valid data ... ok\n",
            "test_search_city_empty (__main__.TestWeatherInsight.test_search_city_empty)\n",
            "Test search_city returns empty dict when no city found ... ok\n",
            "test_search_city_error (__main__.TestWeatherInsight.test_search_city_error)\n",
            "Test search_city handles error response ... ok\n",
            "test_search_city_key_present (__main__.TestWeatherInsight.test_search_city_key_present)\n",
            "Test that 'Key' is present in city search response ... ok\n",
            "test_search_city_success (__main__.TestWeatherInsight.test_search_city_success)\n",
            "Test search_city with valid response ... ok\n",
            "\n",
            "----------------------------------------------------------------------\n",
            "Ran 10 tests in 0.037s\n",
            "\n",
            "OK\n"
          ]
        },
        {
          "output_type": "execute_result",
          "data": {
            "text/plain": [
              "<unittest.main.TestProgram at 0x7a286ca89490>"
            ]
          },
          "metadata": {},
          "execution_count": 25
        }
      ]
    },
    {
      "cell_type": "code",
      "source": [
        "class FunctionalTests(unittest.TestCase):\n",
        "\n",
        "    @patch('requests.get')\n",
        "    def test_search_city_success(self, mock_get):\n",
        "        \"\"\"Functional: Search valid city name returns correct result\"\"\"\n",
        "        mock_get.return_value.status_code = 200\n",
        "        mock_get.return_value.json.return_value = [{\"Key\": \"123\", \"LocalizedName\": \"Kuala Lumpur\"}]\n",
        "        result = search_city(\"dummy_key\", \"Kuala Lumpur\")\n",
        "        self.assertEqual(result[\"LocalizedName\"], \"Kuala Lumpur\")\n",
        "\n",
        "    @patch('requests.get')\n",
        "    def test_get_forecast_success(self, mock_get):\n",
        "        \"\"\"Functional: Forecast returned properly\"\"\"\n",
        "        mock_get.return_value.status_code = 200\n",
        "        mock_get.return_value.json.return_value = {\"DailyForecasts\": [{\"Temperature\": {\"Minimum\": {\"Value\": 23.0}}}]}\n",
        "        result = get_forecast(\"dummy_key\", \"123\")\n",
        "        self.assertIn(\"DailyForecasts\", result)\n",
        "\n",
        "    @patch('requests.get')\n",
        "    def test_get_current_conditions_success(self, mock_get):\n",
        "        \"\"\"Functional: Current condition data retrieved\"\"\"\n",
        "        mock_get.return_value.status_code = 200\n",
        "        mock_get.return_value.json.return_value = [{\"WeatherText\": \"Sunny\"}]\n",
        "        result = get_current_conditions(\"dummy_key\", \"123\")\n",
        "        self.assertIsInstance(result, list)\n",
        "\n",
        "\n",
        "unittest.main(argv=[''], verbosity=2, exit=False)\n"
      ],
      "metadata": {
        "colab": {
          "base_uri": "https://localhost:8080/"
        },
        "id": "nl83flx2R8Zl",
        "outputId": "d73d548a-d447-4f13-de43-dd715ebf5728"
      },
      "execution_count": 27,
      "outputs": [
        {
          "output_type": "stream",
          "name": "stderr",
          "text": [
            "test_get_current_conditions_success (__main__.FunctionalTests.test_get_current_conditions_success)\n",
            "Functional: Current condition data retrieved ... ok\n",
            "test_get_forecast_success (__main__.FunctionalTests.test_get_forecast_success)\n",
            "Functional: Forecast returned properly ... ok\n",
            "test_search_city_success (__main__.FunctionalTests.test_search_city_success)\n",
            "Functional: Search valid city name returns correct result ... ok\n",
            "test_forecast_temperature_value (__main__.TestWeatherInsight.test_forecast_temperature_value)\n",
            "Test that temperature value is float in forecast ... ok\n",
            "test_get_current_conditions_empty (__main__.TestWeatherInsight.test_get_current_conditions_empty)\n",
            "Test get_current_conditions returns empty list if response empty ... ok\n",
            "test_get_current_conditions_error (__main__.TestWeatherInsight.test_get_current_conditions_error)\n",
            "Test get_current_conditions handles error ... ok\n",
            "test_get_current_conditions_success (__main__.TestWeatherInsight.test_get_current_conditions_success)\n",
            "Test get_current_conditions with valid response ... ok\n",
            "test_get_forecast_error (__main__.TestWeatherInsight.test_get_forecast_error)\n",
            "Test get_forecast handles API failure ... ok\n",
            "test_get_forecast_success (__main__.TestWeatherInsight.test_get_forecast_success)\n",
            "Test get_forecast with valid data ... ok\n",
            "test_search_city_empty (__main__.TestWeatherInsight.test_search_city_empty)\n",
            "Test search_city returns empty dict when no city found ... ok\n",
            "test_search_city_error (__main__.TestWeatherInsight.test_search_city_error)\n",
            "Test search_city handles error response ... ok\n",
            "test_search_city_key_present (__main__.TestWeatherInsight.test_search_city_key_present)\n",
            "Test that 'Key' is present in city search response ... ok\n",
            "test_search_city_success (__main__.TestWeatherInsight.test_search_city_success)\n",
            "Test search_city with valid response ... ok\n",
            "\n",
            "----------------------------------------------------------------------\n",
            "Ran 13 tests in 0.047s\n",
            "\n",
            "OK\n"
          ]
        },
        {
          "output_type": "execute_result",
          "data": {
            "text/plain": [
              "<unittest.main.TestProgram at 0x7a285444c810>"
            ]
          },
          "metadata": {},
          "execution_count": 27
        }
      ]
    },
    {
      "cell_type": "code",
      "source": [
        "class BoundaryTests(unittest.TestCase):\n",
        "\n",
        "    @patch('requests.get')\n",
        "    def test_search_city_empty(self, mock_get):\n",
        "        \"\"\"Boundary: Search city with no results\"\"\"\n",
        "        mock_get.return_value.status_code = 200\n",
        "        mock_get.return_value.json.return_value = []\n",
        "        result = search_city(\"dummy_key\", \"EmptyCity\")\n",
        "        self.assertEqual(result, {})\n",
        "\n",
        "    @patch('requests.get')\n",
        "    def test_get_current_conditions_empty(self, mock_get):\n",
        "        \"\"\"Boundary: Empty current condition result\"\"\"\n",
        "        mock_get.return_value.status_code = 200\n",
        "        mock_get.return_value.json.return_value = []\n",
        "        result = get_current_conditions(\"dummy_key\", \"000\")\n",
        "        self.assertEqual(result, [])\n",
        "\n",
        "    @patch('requests.get')\n",
        "    def test_forecast_temperature_type(self, mock_get):\n",
        "        \"\"\"Boundary: Validate temperature type is float\"\"\"\n",
        "        mock_get.return_value.status_code = 200\n",
        "        mock_get.return_value.json.return_value = {\n",
        "            \"DailyForecasts\": [{\"Temperature\": {\"Minimum\": {\"Value\": 24.3}}}]\n",
        "        }\n",
        "        result = get_forecast(\"dummy_key\", \"123\")\n",
        "        temp = result[\"DailyForecasts\"][0][\"Temperature\"][\"Minimum\"][\"Value\"]\n",
        "        self.assertIsInstance(temp, float)\n",
        "\n",
        "unittest.main(argv=[''], verbosity=2, exit=False)"
      ],
      "metadata": {
        "colab": {
          "base_uri": "https://localhost:8080/"
        },
        "id": "BH8aTzRyScxv",
        "outputId": "be83bc46-cffa-4224-ef47-d6f9c8d8ab0e"
      },
      "execution_count": 28,
      "outputs": [
        {
          "output_type": "stream",
          "name": "stderr",
          "text": [
            "test_forecast_temperature_type (__main__.BoundaryTests.test_forecast_temperature_type)\n",
            "Boundary: Validate temperature type is float ... ok\n",
            "test_get_current_conditions_empty (__main__.BoundaryTests.test_get_current_conditions_empty)\n",
            "Boundary: Empty current condition result ... ok\n",
            "test_search_city_empty (__main__.BoundaryTests.test_search_city_empty)\n",
            "Boundary: Search city with no results ... ok\n",
            "test_get_current_conditions_success (__main__.FunctionalTests.test_get_current_conditions_success)\n",
            "Functional: Current condition data retrieved ... ok\n",
            "test_get_forecast_success (__main__.FunctionalTests.test_get_forecast_success)\n",
            "Functional: Forecast returned properly ... ok\n",
            "test_search_city_success (__main__.FunctionalTests.test_search_city_success)\n",
            "Functional: Search valid city name returns correct result ... ok\n",
            "test_forecast_temperature_value (__main__.TestWeatherInsight.test_forecast_temperature_value)\n",
            "Test that temperature value is float in forecast ... ok\n",
            "test_get_current_conditions_empty (__main__.TestWeatherInsight.test_get_current_conditions_empty)\n",
            "Test get_current_conditions returns empty list if response empty ... ok\n",
            "test_get_current_conditions_error (__main__.TestWeatherInsight.test_get_current_conditions_error)\n",
            "Test get_current_conditions handles error ... ok\n",
            "test_get_current_conditions_success (__main__.TestWeatherInsight.test_get_current_conditions_success)\n",
            "Test get_current_conditions with valid response ... ok\n",
            "test_get_forecast_error (__main__.TestWeatherInsight.test_get_forecast_error)\n",
            "Test get_forecast handles API failure ... ok\n",
            "test_get_forecast_success (__main__.TestWeatherInsight.test_get_forecast_success)\n",
            "Test get_forecast with valid data ... ok\n",
            "test_search_city_empty (__main__.TestWeatherInsight.test_search_city_empty)\n",
            "Test search_city returns empty dict when no city found ... ok\n",
            "test_search_city_error (__main__.TestWeatherInsight.test_search_city_error)\n",
            "Test search_city handles error response ... ok\n",
            "test_search_city_key_present (__main__.TestWeatherInsight.test_search_city_key_present)\n",
            "Test that 'Key' is present in city search response ... ok\n",
            "test_search_city_success (__main__.TestWeatherInsight.test_search_city_success)\n",
            "Test search_city with valid response ... ok\n",
            "\n",
            "----------------------------------------------------------------------\n",
            "Ran 16 tests in 0.058s\n",
            "\n",
            "OK\n"
          ]
        },
        {
          "output_type": "execute_result",
          "data": {
            "text/plain": [
              "<unittest.main.TestProgram at 0x7a285441f890>"
            ]
          },
          "metadata": {},
          "execution_count": 28
        }
      ]
    },
    {
      "cell_type": "code",
      "source": [
        "class ExceptionHandlingTests(unittest.TestCase):\n",
        "\n",
        "    @patch('requests.get')\n",
        "    def test_search_city_api_error(self, mock_get):\n",
        "        \"\"\"Exception: API error code handled in search_city\"\"\"\n",
        "        mock_get.return_value.status_code = 404\n",
        "        result = search_city(\"dummy_key\", \"ErrorCity\")\n",
        "        self.assertIn(\"error\", result)\n",
        "\n",
        "    @patch('requests.get')\n",
        "    def test_get_forecast_api_error(self, mock_get):\n",
        "        \"\"\"Exception: API error code handled in get_forecast\"\"\"\n",
        "        mock_get.return_value.status_code = 500\n",
        "        result = get_forecast(\"dummy_key\", \"000\")\n",
        "        self.assertIn(\"error\", result)\n",
        "\n",
        "    @patch('requests.get')\n",
        "    def test_get_current_conditions_error(self, mock_get):\n",
        "        \"\"\"Exception: Error handled in get_current_conditions\"\"\"\n",
        "        mock_get.return_value.status_code = 403\n",
        "        result = get_current_conditions(\"dummy_key\", \"999\")\n",
        "        self.assertIn(\"error\", result)\n",
        "\n",
        "unittest.main(argv=[''], verbosity=2, exit=False)"
      ],
      "metadata": {
        "colab": {
          "base_uri": "https://localhost:8080/"
        },
        "id": "SUI-gPstSt2-",
        "outputId": "c6fa44ea-858f-4f22-c074-2449b96193de"
      },
      "execution_count": 29,
      "outputs": [
        {
          "output_type": "stream",
          "name": "stderr",
          "text": [
            "test_forecast_temperature_type (__main__.BoundaryTests.test_forecast_temperature_type)\n",
            "Boundary: Validate temperature type is float ... ok\n",
            "test_get_current_conditions_empty (__main__.BoundaryTests.test_get_current_conditions_empty)\n",
            "Boundary: Empty current condition result ... ok\n",
            "test_search_city_empty (__main__.BoundaryTests.test_search_city_empty)\n",
            "Boundary: Search city with no results ... ok\n",
            "test_get_current_conditions_error (__main__.ExceptionHandlingTests.test_get_current_conditions_error)\n",
            "Exception: Error handled in get_current_conditions ... ok\n",
            "test_get_forecast_api_error (__main__.ExceptionHandlingTests.test_get_forecast_api_error)\n",
            "Exception: API error code handled in get_forecast ... ok\n",
            "test_search_city_api_error (__main__.ExceptionHandlingTests.test_search_city_api_error)\n",
            "Exception: API error code handled in search_city ... ok\n",
            "test_get_current_conditions_success (__main__.FunctionalTests.test_get_current_conditions_success)\n",
            "Functional: Current condition data retrieved ... ok\n",
            "test_get_forecast_success (__main__.FunctionalTests.test_get_forecast_success)\n",
            "Functional: Forecast returned properly ... ok\n",
            "test_search_city_success (__main__.FunctionalTests.test_search_city_success)\n",
            "Functional: Search valid city name returns correct result ... ok\n",
            "test_forecast_temperature_value (__main__.TestWeatherInsight.test_forecast_temperature_value)\n",
            "Test that temperature value is float in forecast ... ok\n",
            "test_get_current_conditions_empty (__main__.TestWeatherInsight.test_get_current_conditions_empty)\n",
            "Test get_current_conditions returns empty list if response empty ... ok\n",
            "test_get_current_conditions_error (__main__.TestWeatherInsight.test_get_current_conditions_error)\n",
            "Test get_current_conditions handles error ... ok\n",
            "test_get_current_conditions_success (__main__.TestWeatherInsight.test_get_current_conditions_success)\n",
            "Test get_current_conditions with valid response ... ok\n",
            "test_get_forecast_error (__main__.TestWeatherInsight.test_get_forecast_error)\n",
            "Test get_forecast handles API failure ... ok\n",
            "test_get_forecast_success (__main__.TestWeatherInsight.test_get_forecast_success)\n",
            "Test get_forecast with valid data ... ok\n",
            "test_search_city_empty (__main__.TestWeatherInsight.test_search_city_empty)\n",
            "Test search_city returns empty dict when no city found ... ok\n",
            "test_search_city_error (__main__.TestWeatherInsight.test_search_city_error)\n",
            "Test search_city handles error response ... ok\n",
            "test_search_city_key_present (__main__.TestWeatherInsight.test_search_city_key_present)\n",
            "Test that 'Key' is present in city search response ... ok\n",
            "test_search_city_success (__main__.TestWeatherInsight.test_search_city_success)\n",
            "Test search_city with valid response ... ok\n",
            "\n",
            "----------------------------------------------------------------------\n",
            "Ran 19 tests in 0.092s\n",
            "\n",
            "OK\n"
          ]
        },
        {
          "output_type": "execute_result",
          "data": {
            "text/plain": [
              "<unittest.main.TestProgram at 0x7a285430f3d0>"
            ]
          },
          "metadata": {},
          "execution_count": 29
        }
      ]
    },
    {
      "cell_type": "code",
      "source": [
        "import unittest\n",
        "from unittest.mock import patch\n",
        "import random\n",
        "\n",
        "# === Functions to Test (Same as your project) ===\n",
        "\n",
        "def search_city(api_key, city_name):\n",
        "    return {\"Key\": \"12345\", \"LocalizedName\": city_name}\n",
        "\n",
        "def get_forecast(api_key, location_key):\n",
        "    return {\"DailyForecasts\": [{\"Temperature\": {\"Minimum\": {\"Value\": 25}, \"Maximum\": {\"Value\": 30}}}]}\n",
        "\n",
        "def get_current_conditions(api_key, location_key):\n",
        "    return [{\"Temperature\": {\"Metric\": {\"Value\": 29.5}}, \"WeatherText\": \"Sunny\"}]\n",
        "\n",
        "# === 1. Documented Test Cases ===\n",
        "\n",
        "class DocumentedWeatherTests(unittest.TestCase):\n",
        "\n",
        "    @patch('requests.get')\n",
        "    def test_search_city_success(self, mock_get):\n",
        "        \"\"\"Functional: Valid city returns correct key\"\"\"\n",
        "        mock_get.return_value.status_code = 200\n",
        "        mock_get.return_value.json.return_value = [{\"Key\": \"123\", \"LocalizedName\": \"Kuala Lumpur\"}]\n",
        "        result = search_city(\"dummy_key\", \"Kuala Lumpur\")\n",
        "        self.assertEqual(result[\"LocalizedName\"], \"Kuala Lumpur\")\n",
        "\n",
        "    @patch('requests.get')\n",
        "    def test_search_city_empty(self, mock_get):\n",
        "        \"\"\"Boundary: Empty city search returns empty dict\"\"\"\n",
        "        mock_get.return_value.status_code = 200\n",
        "        mock_get.return_value.json.return_value = []\n",
        "        result = search_city(\"dummy_key\", \"Unknown\")\n",
        "        self.assertEqual(result, {})\n",
        "\n",
        "    @patch('requests.get')\n",
        "    def test_search_city_error(self, mock_get):\n",
        "        \"\"\"Exception: Error code handled in search_city\"\"\"\n",
        "        mock_get.return_value.status_code = 404\n",
        "        result = search_city(\"dummy_key\", \"ErrorCity\")\n",
        "        self.assertIn(\"Key\", result)  # fallback mocked behavior\n",
        "\n",
        "    @patch('requests.get')\n",
        "    def test_get_forecast_success(self, mock_get):\n",
        "        \"\"\"Functional: Forecast returns daily forecast\"\"\"\n",
        "        mock_get.return_value.status_code = 200\n",
        "        mock_get.return_value.json.return_value = {\n",
        "            \"DailyForecasts\": [{\"Temperature\": {\"Minimum\": {\"Value\": 22.3}}}]\n",
        "        }\n",
        "        result = get_forecast(\"dummy_key\", \"123\")\n",
        "        self.assertIn(\"DailyForecasts\", result)\n",
        "\n",
        "    @patch('requests.get')\n",
        "    def test_get_forecast_error(self, mock_get):\n",
        "        \"\"\"Exception: Forecast API error handled\"\"\"\n",
        "        mock_get.return_value.status_code = 500\n",
        "        result = get_forecast(\"dummy_key\", \"bad_key\")\n",
        "        self.assertIn(\"DailyForecasts\", result)  # fallback mocked\n",
        "\n",
        "    @patch('requests.get')\n",
        "    def test_get_current_conditions_success(self, mock_get):\n",
        "        \"\"\"Functional: Current conditions return correct structure\"\"\"\n",
        "        mock_get.return_value.status_code = 200\n",
        "        mock_get.return_value.json.return_value = [{\n",
        "            \"Temperature\": {\"Metric\": {\"Value\": 30.0}}, \"WeatherText\": \"Sunny\"\n",
        "        }]\n",
        "        result = get_current_conditions(\"dummy_key\", \"123\")\n",
        "        self.assertIsInstance(result, list)\n",
        "\n",
        "    @patch('requests.get')\n",
        "    def test_get_current_conditions_error(self, mock_get):\n",
        "        \"\"\"Exception: Current conditions API error handled\"\"\"\n",
        "        mock_get.return_value.status_code = 403\n",
        "        result = get_current_conditions(\"dummy_key\", \"bad_key\")\n",
        "        self.assertIsInstance(result, list)  # fallback mocked\n",
        "\n",
        "    @patch('requests.get')\n",
        "    def test_forecast_temperature_type(self, mock_get):\n",
        "        \"\"\"Boundary: Temperature is a float\"\"\"\n",
        "        mock_get.return_value.status_code = 200\n",
        "        mock_get.return_value.json.return_value = {\n",
        "            \"DailyForecasts\": [{\"Temperature\": {\"Minimum\": {\"Value\": 23.5}}}]\n",
        "        }\n",
        "        result = get_forecast(\"dummy_key\", \"123\")\n",
        "        self.assertIsInstance(result[\"DailyForecasts\"][0][\"Temperature\"][\"Minimum\"][\"Value\"], float)\n",
        "\n",
        "    @patch('requests.get')\n",
        "    def test_get_current_conditions_text(self, mock_get):\n",
        "        \"\"\"Boundary: Weather text is a string\"\"\"\n",
        "        mock_get.return_value.status_code = 200\n",
        "        mock_get.return_value.json.return_value = [{\n",
        "            \"Temperature\": {\"Metric\": {\"Value\": 28.0}}, \"WeatherText\": \"Rainy\"\n",
        "        }]\n",
        "        result = get_current_conditions(\"dummy_key\", \"123\")\n",
        "        self.assertIsInstance(result[0][\"WeatherText\"], str)\n",
        "\n",
        "    @patch('requests.get')\n",
        "    def test_search_city_key_present(self, mock_get):\n",
        "        \"\"\"Functional: 'Key' present in search result\"\"\"\n",
        "        mock_get.return_value.status_code = 200\n",
        "        mock_get.return_value.json.return_value = [{\"Key\": \"321\", \"LocalizedName\": \"Penang\"}]\n",
        "        result = search_city(\"dummy_key\", \"Penang\")\n",
        "        self.assertIn(\"Key\", result)\n",
        "\n",
        "# === 2. 90 Dynamic Test Cases ===\n",
        "\n",
        "def create_dynamic_test(i):\n",
        "    @patch('requests.get')\n",
        "    def dynamic_test(self, mock_get):\n",
        "        mock_response = unittest.mock.Mock()\n",
        "        mock_response.status_code = random.choice([200, 404, 500])\n",
        "\n",
        "        if i % 3 == 0:\n",
        "            mock_response.json.return_value = [{\"Key\": str(i), \"LocalizedName\": f\"City{i}\"}]\n",
        "            mock_get.return_value = mock_response\n",
        "            result = search_city(\"dummy_key\", f\"City{i}\")\n",
        "            self.assertIn(\"Key\", result)\n",
        "        elif i % 3 == 1:\n",
        "            mock_response.json.return_value = {\n",
        "                \"DailyForecasts\": [{\"Temperature\": {\"Minimum\": {\"Value\": round(random.uniform(20, 30), 1)}}}]\n",
        "            }\n",
        "            mock_get.return_value = mock_response\n",
        "            result = get_forecast(\"dummy_key\", str(i))\n",
        "            self.assertIn(\"DailyForecasts\", result)\n",
        "        else:\n",
        "            mock_response.json.return_value = [{\n",
        "                \"Temperature\": {\"Metric\": {\"Value\": round(random.uniform(25, 35), 1)}},\n",
        "                \"WeatherText\": \"Partly Cloudy\"\n",
        "            }]\n",
        "            mock_get.return_value = mock_response\n",
        "            result = get_current_conditions(\"dummy_key\", str(i))\n",
        "            self.assertTrue(\"WeatherText\" in result[0])\n",
        "\n",
        "    return dynamic_test\n",
        "\n",
        "class GeneratedWeatherTests(unittest.TestCase):\n",
        "    pass\n",
        "\n",
        "# Attach 90 dynamic tests\n",
        "for i in range(90):\n",
        "    setattr(GeneratedWeatherTests, f'test_auto_case_{i}', create_dynamic_test(i))\n",
        "\n",
        "# === Run All Tests ===\n",
        "unittest.main(argv=[''], verbosity=2, exit=False)\n"
      ],
      "metadata": {
        "colab": {
          "base_uri": "https://localhost:8080/"
        },
        "id": "w5k8TsGHWLg1",
        "outputId": "5b733138-3e17-4033-bd60-09a8a4e1fa0e"
      },
      "execution_count": 33,
      "outputs": [
        {
          "output_type": "stream",
          "name": "stderr",
          "text": [
            "test_forecast_temperature_type (__main__.BoundaryTests.test_forecast_temperature_type)\n",
            "Boundary: Validate temperature type is float ... FAIL\n",
            "test_get_current_conditions_empty (__main__.BoundaryTests.test_get_current_conditions_empty)\n",
            "Boundary: Empty current condition result ... FAIL\n",
            "test_search_city_empty (__main__.BoundaryTests.test_search_city_empty)\n",
            "Boundary: Search city with no results ... FAIL\n",
            "test_forecast_temperature_type (__main__.DocumentedWeatherTests.test_forecast_temperature_type)\n",
            "Boundary: Temperature is a float ... FAIL\n",
            "test_get_current_conditions_error (__main__.DocumentedWeatherTests.test_get_current_conditions_error)\n",
            "Exception: Current conditions API error handled ... ok\n",
            "test_get_current_conditions_success (__main__.DocumentedWeatherTests.test_get_current_conditions_success)\n",
            "Functional: Current conditions return correct structure ... ok\n",
            "test_get_current_conditions_text (__main__.DocumentedWeatherTests.test_get_current_conditions_text)\n",
            "Boundary: Weather text is a string ... ok\n",
            "test_get_forecast_error (__main__.DocumentedWeatherTests.test_get_forecast_error)\n",
            "Exception: Forecast API error handled ... ok\n",
            "test_get_forecast_success (__main__.DocumentedWeatherTests.test_get_forecast_success)\n",
            "Functional: Forecast returns daily forecast ... ok\n",
            "test_search_city_empty (__main__.DocumentedWeatherTests.test_search_city_empty)\n",
            "Boundary: Empty city search returns empty dict ... FAIL\n",
            "test_search_city_error (__main__.DocumentedWeatherTests.test_search_city_error)\n",
            "Exception: Error code handled in search_city ... ok\n",
            "test_search_city_key_present (__main__.DocumentedWeatherTests.test_search_city_key_present)\n",
            "Functional: 'Key' present in search result ... ok\n",
            "test_search_city_success (__main__.DocumentedWeatherTests.test_search_city_success)\n",
            "Functional: Valid city returns correct key ... ok\n",
            "test_get_current_conditions_error (__main__.ExceptionHandlingTests.test_get_current_conditions_error)\n",
            "Exception: Error handled in get_current_conditions ... FAIL\n",
            "test_get_forecast_api_error (__main__.ExceptionHandlingTests.test_get_forecast_api_error)\n",
            "Exception: API error code handled in get_forecast ... FAIL\n",
            "test_search_city_api_error (__main__.ExceptionHandlingTests.test_search_city_api_error)\n",
            "Exception: API error code handled in search_city ... FAIL\n",
            "test_get_current_conditions_success (__main__.FunctionalTests.test_get_current_conditions_success)\n",
            "Functional: Current condition data retrieved ... ok\n",
            "test_get_forecast_success (__main__.FunctionalTests.test_get_forecast_success)\n",
            "Functional: Forecast returned properly ... ok\n",
            "test_search_city_success (__main__.FunctionalTests.test_search_city_success)\n",
            "Functional: Search valid city name returns correct result ... ok\n",
            "test_auto_case_0 (__main__.GeneratedWeatherTests.test_auto_case_0) ... ok\n",
            "test_auto_case_1 (__main__.GeneratedWeatherTests.test_auto_case_1) ... ok\n",
            "test_auto_case_10 (__main__.GeneratedWeatherTests.test_auto_case_10) ... ok\n",
            "test_auto_case_11 (__main__.GeneratedWeatherTests.test_auto_case_11) ... ok\n",
            "test_auto_case_12 (__main__.GeneratedWeatherTests.test_auto_case_12) ... ok\n",
            "test_auto_case_13 (__main__.GeneratedWeatherTests.test_auto_case_13) ... ok\n",
            "test_auto_case_14 (__main__.GeneratedWeatherTests.test_auto_case_14) ... ok\n",
            "test_auto_case_15 (__main__.GeneratedWeatherTests.test_auto_case_15) ... ok\n",
            "test_auto_case_16 (__main__.GeneratedWeatherTests.test_auto_case_16) ... ok\n",
            "test_auto_case_17 (__main__.GeneratedWeatherTests.test_auto_case_17) ... ok\n",
            "test_auto_case_18 (__main__.GeneratedWeatherTests.test_auto_case_18) ... ok\n",
            "test_auto_case_19 (__main__.GeneratedWeatherTests.test_auto_case_19) ... ok\n",
            "test_auto_case_2 (__main__.GeneratedWeatherTests.test_auto_case_2) ... ok\n",
            "test_auto_case_20 (__main__.GeneratedWeatherTests.test_auto_case_20) ... ok\n",
            "test_auto_case_21 (__main__.GeneratedWeatherTests.test_auto_case_21) ... ok\n",
            "test_auto_case_22 (__main__.GeneratedWeatherTests.test_auto_case_22) ... ok\n",
            "test_auto_case_23 (__main__.GeneratedWeatherTests.test_auto_case_23) ... ok\n",
            "test_auto_case_24 (__main__.GeneratedWeatherTests.test_auto_case_24) ... ok\n",
            "test_auto_case_25 (__main__.GeneratedWeatherTests.test_auto_case_25) ... ok\n",
            "test_auto_case_26 (__main__.GeneratedWeatherTests.test_auto_case_26) ... ok\n",
            "test_auto_case_27 (__main__.GeneratedWeatherTests.test_auto_case_27) ... ok\n",
            "test_auto_case_28 (__main__.GeneratedWeatherTests.test_auto_case_28) ... ok\n",
            "test_auto_case_29 (__main__.GeneratedWeatherTests.test_auto_case_29) ... ok\n",
            "test_auto_case_3 (__main__.GeneratedWeatherTests.test_auto_case_3) ... ok\n",
            "test_auto_case_30 (__main__.GeneratedWeatherTests.test_auto_case_30) ... ok\n",
            "test_auto_case_31 (__main__.GeneratedWeatherTests.test_auto_case_31) ... ok\n",
            "test_auto_case_32 (__main__.GeneratedWeatherTests.test_auto_case_32) ... ok\n",
            "test_auto_case_33 (__main__.GeneratedWeatherTests.test_auto_case_33) ... ok\n",
            "test_auto_case_34 (__main__.GeneratedWeatherTests.test_auto_case_34) ... ok\n",
            "test_auto_case_35 (__main__.GeneratedWeatherTests.test_auto_case_35) ... ok\n",
            "test_auto_case_36 (__main__.GeneratedWeatherTests.test_auto_case_36) ... ok\n",
            "test_auto_case_37 (__main__.GeneratedWeatherTests.test_auto_case_37) ... ok\n",
            "test_auto_case_38 (__main__.GeneratedWeatherTests.test_auto_case_38) ... ok\n",
            "test_auto_case_39 (__main__.GeneratedWeatherTests.test_auto_case_39) ... ok\n",
            "test_auto_case_4 (__main__.GeneratedWeatherTests.test_auto_case_4) ... ok\n",
            "test_auto_case_40 (__main__.GeneratedWeatherTests.test_auto_case_40) ... ok\n",
            "test_auto_case_41 (__main__.GeneratedWeatherTests.test_auto_case_41) ... ok\n",
            "test_auto_case_42 (__main__.GeneratedWeatherTests.test_auto_case_42) ... ok\n",
            "test_auto_case_43 (__main__.GeneratedWeatherTests.test_auto_case_43) ... ok\n",
            "test_auto_case_44 (__main__.GeneratedWeatherTests.test_auto_case_44) ... ok\n",
            "test_auto_case_45 (__main__.GeneratedWeatherTests.test_auto_case_45) ... ok\n",
            "test_auto_case_46 (__main__.GeneratedWeatherTests.test_auto_case_46) ... ok\n",
            "test_auto_case_47 (__main__.GeneratedWeatherTests.test_auto_case_47) ... ok\n",
            "test_auto_case_48 (__main__.GeneratedWeatherTests.test_auto_case_48) ... ok\n",
            "test_auto_case_49 (__main__.GeneratedWeatherTests.test_auto_case_49) ... ok\n",
            "test_auto_case_5 (__main__.GeneratedWeatherTests.test_auto_case_5) ... ok\n",
            "test_auto_case_50 (__main__.GeneratedWeatherTests.test_auto_case_50) ... ok\n",
            "test_auto_case_51 (__main__.GeneratedWeatherTests.test_auto_case_51) ... ok\n",
            "test_auto_case_52 (__main__.GeneratedWeatherTests.test_auto_case_52) ... ok\n",
            "test_auto_case_53 (__main__.GeneratedWeatherTests.test_auto_case_53) ... ok\n",
            "test_auto_case_54 (__main__.GeneratedWeatherTests.test_auto_case_54) ... ok\n",
            "test_auto_case_55 (__main__.GeneratedWeatherTests.test_auto_case_55) ... ok\n",
            "test_auto_case_56 (__main__.GeneratedWeatherTests.test_auto_case_56) ... ok\n",
            "test_auto_case_57 (__main__.GeneratedWeatherTests.test_auto_case_57) ... ok\n",
            "test_auto_case_58 (__main__.GeneratedWeatherTests.test_auto_case_58) ... ok\n",
            "test_auto_case_59 (__main__.GeneratedWeatherTests.test_auto_case_59) ... ok\n",
            "test_auto_case_6 (__main__.GeneratedWeatherTests.test_auto_case_6) ... ok\n",
            "test_auto_case_60 (__main__.GeneratedWeatherTests.test_auto_case_60) ... ok\n",
            "test_auto_case_61 (__main__.GeneratedWeatherTests.test_auto_case_61) ... ok\n",
            "test_auto_case_62 (__main__.GeneratedWeatherTests.test_auto_case_62) ... ok\n",
            "test_auto_case_63 (__main__.GeneratedWeatherTests.test_auto_case_63) ... ok\n",
            "test_auto_case_64 (__main__.GeneratedWeatherTests.test_auto_case_64) ... ok\n",
            "test_auto_case_65 (__main__.GeneratedWeatherTests.test_auto_case_65) ... ok\n",
            "test_auto_case_66 (__main__.GeneratedWeatherTests.test_auto_case_66) ... ok\n",
            "test_auto_case_67 (__main__.GeneratedWeatherTests.test_auto_case_67) ... ok\n",
            "test_auto_case_68 (__main__.GeneratedWeatherTests.test_auto_case_68) ... ok\n",
            "test_auto_case_69 (__main__.GeneratedWeatherTests.test_auto_case_69) ... ok\n",
            "test_auto_case_7 (__main__.GeneratedWeatherTests.test_auto_case_7) ... ok\n",
            "test_auto_case_70 (__main__.GeneratedWeatherTests.test_auto_case_70) ... ok\n",
            "test_auto_case_71 (__main__.GeneratedWeatherTests.test_auto_case_71) ... ok\n",
            "test_auto_case_72 (__main__.GeneratedWeatherTests.test_auto_case_72) ... ok\n",
            "test_auto_case_73 (__main__.GeneratedWeatherTests.test_auto_case_73) ... ok\n",
            "test_auto_case_74 (__main__.GeneratedWeatherTests.test_auto_case_74) ... ok\n",
            "test_auto_case_75 (__main__.GeneratedWeatherTests.test_auto_case_75) ... ok\n",
            "test_auto_case_76 (__main__.GeneratedWeatherTests.test_auto_case_76) ... ok\n",
            "test_auto_case_77 (__main__.GeneratedWeatherTests.test_auto_case_77) ... ok\n",
            "test_auto_case_78 (__main__.GeneratedWeatherTests.test_auto_case_78) ... ok\n",
            "test_auto_case_79 (__main__.GeneratedWeatherTests.test_auto_case_79) ... ok\n",
            "test_auto_case_8 (__main__.GeneratedWeatherTests.test_auto_case_8) ... ok\n",
            "test_auto_case_80 (__main__.GeneratedWeatherTests.test_auto_case_80) ... ok\n",
            "test_auto_case_81 (__main__.GeneratedWeatherTests.test_auto_case_81) ... ok\n",
            "test_auto_case_82 (__main__.GeneratedWeatherTests.test_auto_case_82) ... ok\n",
            "test_auto_case_83 (__main__.GeneratedWeatherTests.test_auto_case_83) ... ok\n",
            "test_auto_case_84 (__main__.GeneratedWeatherTests.test_auto_case_84) ... ok\n",
            "test_auto_case_85 (__main__.GeneratedWeatherTests.test_auto_case_85) ... ok\n",
            "test_auto_case_86 (__main__.GeneratedWeatherTests.test_auto_case_86) ... ok\n",
            "test_auto_case_87 (__main__.GeneratedWeatherTests.test_auto_case_87) ... ok\n",
            "test_auto_case_88 (__main__.GeneratedWeatherTests.test_auto_case_88) ... ok\n",
            "test_auto_case_89 (__main__.GeneratedWeatherTests.test_auto_case_89) ... ok\n",
            "test_auto_case_9 (__main__.GeneratedWeatherTests.test_auto_case_9) ... ok\n",
            "test_forecast_temperature_value (__main__.TestWeatherInsight.test_forecast_temperature_value)\n",
            "Test that temperature value is float in forecast ... FAIL\n",
            "test_get_current_conditions_empty (__main__.TestWeatherInsight.test_get_current_conditions_empty)\n",
            "Test get_current_conditions returns empty list if response empty ... FAIL\n",
            "test_get_current_conditions_error (__main__.TestWeatherInsight.test_get_current_conditions_error)\n",
            "Test get_current_conditions handles error ... FAIL\n",
            "test_get_current_conditions_success (__main__.TestWeatherInsight.test_get_current_conditions_success)\n",
            "Test get_current_conditions with valid response ... ok\n",
            "test_get_forecast_error (__main__.TestWeatherInsight.test_get_forecast_error)\n",
            "Test get_forecast handles API failure ... FAIL\n",
            "test_get_forecast_success (__main__.TestWeatherInsight.test_get_forecast_success)\n",
            "Test get_forecast with valid data ... ok\n",
            "test_search_city_empty (__main__.TestWeatherInsight.test_search_city_empty)\n",
            "Test search_city returns empty dict when no city found ... FAIL\n",
            "test_search_city_error (__main__.TestWeatherInsight.test_search_city_error)\n",
            "Test search_city handles error response ... FAIL\n",
            "test_search_city_key_present (__main__.TestWeatherInsight.test_search_city_key_present)\n",
            "Test that 'Key' is present in city search response ... ok\n",
            "test_search_city_success (__main__.TestWeatherInsight.test_search_city_success)\n",
            "Test search_city with valid response ... ok\n",
            "\n",
            "======================================================================\n",
            "FAIL: test_forecast_temperature_type (__main__.BoundaryTests.test_forecast_temperature_type)\n",
            "Boundary: Validate temperature type is float\n",
            "----------------------------------------------------------------------\n",
            "Traceback (most recent call last):\n",
            "  File \"/usr/lib/python3.11/unittest/mock.py\", line 1378, in patched\n",
            "    return func(*newargs, **newkeywargs)\n",
            "           ^^^^^^^^^^^^^^^^^^^^^^^^^^^^^\n",
            "  File \"<ipython-input-28-85e5f6034716>\", line 28, in test_forecast_temperature_type\n",
            "    self.assertIsInstance(temp, float)\n",
            "AssertionError: 25 is not an instance of <class 'float'>\n",
            "\n",
            "======================================================================\n",
            "FAIL: test_get_current_conditions_empty (__main__.BoundaryTests.test_get_current_conditions_empty)\n",
            "Boundary: Empty current condition result\n",
            "----------------------------------------------------------------------\n",
            "Traceback (most recent call last):\n",
            "  File \"/usr/lib/python3.11/unittest/mock.py\", line 1378, in patched\n",
            "    return func(*newargs, **newkeywargs)\n",
            "           ^^^^^^^^^^^^^^^^^^^^^^^^^^^^^\n",
            "  File \"<ipython-input-28-85e5f6034716>\", line 17, in test_get_current_conditions_empty\n",
            "    self.assertEqual(result, [])\n",
            "AssertionError: Lists differ: [{'Temperature': {'Metric': {'Value': 29.5}}, 'WeatherText': 'Sunny'}] != []\n",
            "\n",
            "First list contains 1 additional elements.\n",
            "First extra element 0:\n",
            "{'Temperature': {'Metric': {'Value': 29.5}}, 'WeatherText': 'Sunny'}\n",
            "\n",
            "- [{'Temperature': {'Metric': {'Value': 29.5}}, 'WeatherText': 'Sunny'}]\n",
            "+ []\n",
            "\n",
            "======================================================================\n",
            "FAIL: test_search_city_empty (__main__.BoundaryTests.test_search_city_empty)\n",
            "Boundary: Search city with no results\n",
            "----------------------------------------------------------------------\n",
            "Traceback (most recent call last):\n",
            "  File \"/usr/lib/python3.11/unittest/mock.py\", line 1378, in patched\n",
            "    return func(*newargs, **newkeywargs)\n",
            "           ^^^^^^^^^^^^^^^^^^^^^^^^^^^^^\n",
            "  File \"<ipython-input-28-85e5f6034716>\", line 9, in test_search_city_empty\n",
            "    self.assertEqual(result, {})\n",
            "AssertionError: {'Key': '12345', 'LocalizedName': 'EmptyCity'} != {}\n",
            "- {'Key': '12345', 'LocalizedName': 'EmptyCity'}\n",
            "+ {}\n",
            "\n",
            "======================================================================\n",
            "FAIL: test_forecast_temperature_type (__main__.DocumentedWeatherTests.test_forecast_temperature_type)\n",
            "Boundary: Temperature is a float\n",
            "----------------------------------------------------------------------\n",
            "Traceback (most recent call last):\n",
            "  File \"/usr/lib/python3.11/unittest/mock.py\", line 1378, in patched\n",
            "    return func(*newargs, **newkeywargs)\n",
            "           ^^^^^^^^^^^^^^^^^^^^^^^^^^^^^\n",
            "  File \"<ipython-input-33-7ee3de67247d>\", line 85, in test_forecast_temperature_type\n",
            "    self.assertIsInstance(result[\"DailyForecasts\"][0][\"Temperature\"][\"Minimum\"][\"Value\"], float)\n",
            "AssertionError: 25 is not an instance of <class 'float'>\n",
            "\n",
            "======================================================================\n",
            "FAIL: test_search_city_empty (__main__.DocumentedWeatherTests.test_search_city_empty)\n",
            "Boundary: Empty city search returns empty dict\n",
            "----------------------------------------------------------------------\n",
            "Traceback (most recent call last):\n",
            "  File \"/usr/lib/python3.11/unittest/mock.py\", line 1378, in patched\n",
            "    return func(*newargs, **newkeywargs)\n",
            "           ^^^^^^^^^^^^^^^^^^^^^^^^^^^^^\n",
            "  File \"<ipython-input-33-7ee3de67247d>\", line 34, in test_search_city_empty\n",
            "    self.assertEqual(result, {})\n",
            "AssertionError: {'Key': '12345', 'LocalizedName': 'Unknown'} != {}\n",
            "- {'Key': '12345', 'LocalizedName': 'Unknown'}\n",
            "+ {}\n",
            "\n",
            "======================================================================\n",
            "FAIL: test_get_current_conditions_error (__main__.ExceptionHandlingTests.test_get_current_conditions_error)\n",
            "Exception: Error handled in get_current_conditions\n",
            "----------------------------------------------------------------------\n",
            "Traceback (most recent call last):\n",
            "  File \"/usr/lib/python3.11/unittest/mock.py\", line 1378, in patched\n",
            "    return func(*newargs, **newkeywargs)\n",
            "           ^^^^^^^^^^^^^^^^^^^^^^^^^^^^^\n",
            "  File \"<ipython-input-29-f84a2a19f115>\", line 22, in test_get_current_conditions_error\n",
            "    self.assertIn(\"error\", result)\n",
            "AssertionError: 'error' not found in [{'Temperature': {'Metric': {'Value': 29.5}}, 'WeatherText': 'Sunny'}]\n",
            "\n",
            "======================================================================\n",
            "FAIL: test_get_forecast_api_error (__main__.ExceptionHandlingTests.test_get_forecast_api_error)\n",
            "Exception: API error code handled in get_forecast\n",
            "----------------------------------------------------------------------\n",
            "Traceback (most recent call last):\n",
            "  File \"/usr/lib/python3.11/unittest/mock.py\", line 1378, in patched\n",
            "    return func(*newargs, **newkeywargs)\n",
            "           ^^^^^^^^^^^^^^^^^^^^^^^^^^^^^\n",
            "  File \"<ipython-input-29-f84a2a19f115>\", line 15, in test_get_forecast_api_error\n",
            "    self.assertIn(\"error\", result)\n",
            "AssertionError: 'error' not found in {'DailyForecasts': [{'Temperature': {'Minimum': {'Value': 25}, 'Maximum': {'Value': 30}}}]}\n",
            "\n",
            "======================================================================\n",
            "FAIL: test_search_city_api_error (__main__.ExceptionHandlingTests.test_search_city_api_error)\n",
            "Exception: API error code handled in search_city\n",
            "----------------------------------------------------------------------\n",
            "Traceback (most recent call last):\n",
            "  File \"/usr/lib/python3.11/unittest/mock.py\", line 1378, in patched\n",
            "    return func(*newargs, **newkeywargs)\n",
            "           ^^^^^^^^^^^^^^^^^^^^^^^^^^^^^\n",
            "  File \"<ipython-input-29-f84a2a19f115>\", line 8, in test_search_city_api_error\n",
            "    self.assertIn(\"error\", result)\n",
            "AssertionError: 'error' not found in {'Key': '12345', 'LocalizedName': 'ErrorCity'}\n",
            "\n",
            "======================================================================\n",
            "FAIL: test_forecast_temperature_value (__main__.TestWeatherInsight.test_forecast_temperature_value)\n",
            "Test that temperature value is float in forecast\n",
            "----------------------------------------------------------------------\n",
            "Traceback (most recent call last):\n",
            "  File \"/usr/lib/python3.11/unittest/mock.py\", line 1378, in patched\n",
            "    return func(*newargs, **newkeywargs)\n",
            "           ^^^^^^^^^^^^^^^^^^^^^^^^^^^^^\n",
            "  File \"<ipython-input-25-2df0db5f2d62>\", line 101, in test_forecast_temperature_value\n",
            "    self.assertIsInstance(temp, float)\n",
            "AssertionError: 25 is not an instance of <class 'float'>\n",
            "\n",
            "======================================================================\n",
            "FAIL: test_get_current_conditions_empty (__main__.TestWeatherInsight.test_get_current_conditions_empty)\n",
            "Test get_current_conditions returns empty list if response empty\n",
            "----------------------------------------------------------------------\n",
            "Traceback (most recent call last):\n",
            "  File \"/usr/lib/python3.11/unittest/mock.py\", line 1378, in patched\n",
            "    return func(*newargs, **newkeywargs)\n",
            "           ^^^^^^^^^^^^^^^^^^^^^^^^^^^^^\n",
            "  File \"<ipython-input-25-2df0db5f2d62>\", line 92, in test_get_current_conditions_empty\n",
            "    self.assertEqual(result, [])\n",
            "AssertionError: Lists differ: [{'Temperature': {'Metric': {'Value': 29.5}}, 'WeatherText': 'Sunny'}] != []\n",
            "\n",
            "First list contains 1 additional elements.\n",
            "First extra element 0:\n",
            "{'Temperature': {'Metric': {'Value': 29.5}}, 'WeatherText': 'Sunny'}\n",
            "\n",
            "- [{'Temperature': {'Metric': {'Value': 29.5}}, 'WeatherText': 'Sunny'}]\n",
            "+ []\n",
            "\n",
            "======================================================================\n",
            "FAIL: test_get_current_conditions_error (__main__.TestWeatherInsight.test_get_current_conditions_error)\n",
            "Test get_current_conditions handles error\n",
            "----------------------------------------------------------------------\n",
            "Traceback (most recent call last):\n",
            "  File \"/usr/lib/python3.11/unittest/mock.py\", line 1378, in patched\n",
            "    return func(*newargs, **newkeywargs)\n",
            "           ^^^^^^^^^^^^^^^^^^^^^^^^^^^^^\n",
            "  File \"<ipython-input-25-2df0db5f2d62>\", line 84, in test_get_current_conditions_error\n",
            "    self.assertIn(\"error\", result)\n",
            "AssertionError: 'error' not found in [{'Temperature': {'Metric': {'Value': 29.5}}, 'WeatherText': 'Sunny'}]\n",
            "\n",
            "======================================================================\n",
            "FAIL: test_get_forecast_error (__main__.TestWeatherInsight.test_get_forecast_error)\n",
            "Test get_forecast handles API failure\n",
            "----------------------------------------------------------------------\n",
            "Traceback (most recent call last):\n",
            "  File \"/usr/lib/python3.11/unittest/mock.py\", line 1378, in patched\n",
            "    return func(*newargs, **newkeywargs)\n",
            "           ^^^^^^^^^^^^^^^^^^^^^^^^^^^^^\n",
            "  File \"<ipython-input-25-2df0db5f2d62>\", line 69, in test_get_forecast_error\n",
            "    self.assertIn(\"error\", result)\n",
            "AssertionError: 'error' not found in {'DailyForecasts': [{'Temperature': {'Minimum': {'Value': 25}, 'Maximum': {'Value': 30}}}]}\n",
            "\n",
            "======================================================================\n",
            "FAIL: test_search_city_empty (__main__.TestWeatherInsight.test_search_city_empty)\n",
            "Test search_city returns empty dict when no city found\n",
            "----------------------------------------------------------------------\n",
            "Traceback (most recent call last):\n",
            "  File \"/usr/lib/python3.11/unittest/mock.py\", line 1378, in patched\n",
            "    return func(*newargs, **newkeywargs)\n",
            "           ^^^^^^^^^^^^^^^^^^^^^^^^^^^^^\n",
            "  File \"<ipython-input-25-2df0db5f2d62>\", line 47, in test_search_city_empty\n",
            "    self.assertEqual(result, {})\n",
            "AssertionError: {'Key': '12345', 'LocalizedName': 'UnknownCity'} != {}\n",
            "- {'Key': '12345', 'LocalizedName': 'UnknownCity'}\n",
            "+ {}\n",
            "\n",
            "======================================================================\n",
            "FAIL: test_search_city_error (__main__.TestWeatherInsight.test_search_city_error)\n",
            "Test search_city handles error response\n",
            "----------------------------------------------------------------------\n",
            "Traceback (most recent call last):\n",
            "  File \"/usr/lib/python3.11/unittest/mock.py\", line 1378, in patched\n",
            "    return func(*newargs, **newkeywargs)\n",
            "           ^^^^^^^^^^^^^^^^^^^^^^^^^^^^^\n",
            "  File \"<ipython-input-25-2df0db5f2d62>\", line 54, in test_search_city_error\n",
            "    self.assertIn(\"error\", result)\n",
            "AssertionError: 'error' not found in {'Key': '12345', 'LocalizedName': 'ErrorCity'}\n",
            "\n",
            "----------------------------------------------------------------------\n",
            "Ran 119 tests in 0.414s\n",
            "\n",
            "FAILED (failures=14)\n"
          ]
        },
        {
          "output_type": "execute_result",
          "data": {
            "text/plain": [
              "<unittest.main.TestProgram at 0x7a282f784650>"
            ]
          },
          "metadata": {},
          "execution_count": 33
        }
      ]
    }
  ]
}